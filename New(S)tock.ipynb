{
 "cells": [
  {
   "cell_type": "markdown",
   "metadata": {
    "toc": true
   },
   "source": [
    "<h1>Table of Contents<span class=\"tocSkip\"></span></h1>\n",
    "<div class=\"toc\"><ul class=\"toc-item\"><li><span><a href=\"#Load-and-Analyse\" data-toc-modified-id=\"Load-and-Analyse-1\"><span class=\"toc-item-num\">1&nbsp;&nbsp;</span>Load and Analyse</a></span></li><li><span><a href=\"#Preprocessing\" data-toc-modified-id=\"Preprocessing-2\"><span class=\"toc-item-num\">2&nbsp;&nbsp;</span>Preprocessing</a></span><ul class=\"toc-item\"><li><span><a href=\"#Structuring-the-data\" data-toc-modified-id=\"Structuring-the-data-2.1\"><span class=\"toc-item-num\">2.1&nbsp;&nbsp;</span>Structuring the data</a></span></li><li><span><a href=\"#Text-Preprocessing\" data-toc-modified-id=\"Text-Preprocessing-2.2\"><span class=\"toc-item-num\">2.2&nbsp;&nbsp;</span>Text Preprocessing</a></span></li></ul></li><li><span><a href=\"#Word-Embeddings\" data-toc-modified-id=\"Word-Embeddings-3\"><span class=\"toc-item-num\">3&nbsp;&nbsp;</span>Word Embeddings</a></span></li><li><span><a href=\"#Feature-Engineering-for-Traditional-ML\" data-toc-modified-id=\"Feature-Engineering-for-Traditional-ML-4\"><span class=\"toc-item-num\">4&nbsp;&nbsp;</span>Feature Engineering for Traditional ML</a></span></li><li><span><a href=\"#Modelling\" data-toc-modified-id=\"Modelling-5\"><span class=\"toc-item-num\">5&nbsp;&nbsp;</span>Modelling</a></span><ul class=\"toc-item\"><li><span><a href=\"#Traditional-ML-Models\" data-toc-modified-id=\"Traditional-ML-Models-5.1\"><span class=\"toc-item-num\">5.1&nbsp;&nbsp;</span>Traditional ML Models</a></span><ul class=\"toc-item\"><li><span><a href=\"#Logistic-Regression\" data-toc-modified-id=\"Logistic-Regression-5.1.1\"><span class=\"toc-item-num\">5.1.1&nbsp;&nbsp;</span>Logistic Regression</a></span></li><li><span><a href=\"#Naive-Bayes\" data-toc-modified-id=\"Naive-Bayes-5.1.2\"><span class=\"toc-item-num\">5.1.2&nbsp;&nbsp;</span>Naive Bayes</a></span></li><li><span><a href=\"#Random-Forest\" data-toc-modified-id=\"Random-Forest-5.1.3\"><span class=\"toc-item-num\">5.1.3&nbsp;&nbsp;</span>Random Forest</a></span></li></ul></li><li><span><a href=\"#Deep-Learning-Models\" data-toc-modified-id=\"Deep-Learning-Models-5.2\"><span class=\"toc-item-num\">5.2&nbsp;&nbsp;</span>Deep Learning Models</a></span><ul class=\"toc-item\"><li><span><a href=\"#Using-Word2Vec-Models-created\" data-toc-modified-id=\"Using-Word2Vec-Models-created-5.2.1\"><span class=\"toc-item-num\">5.2.1&nbsp;&nbsp;</span>Using Word2Vec Models created</a></span></li><li><span><a href=\"#Dense-Neural-Network\" data-toc-modified-id=\"Dense-Neural-Network-5.2.2\"><span class=\"toc-item-num\">5.2.2&nbsp;&nbsp;</span>Dense Neural Network</a></span></li><li><span><a href=\"#Convolutional-Neural-Network\" data-toc-modified-id=\"Convolutional-Neural-Network-5.2.3\"><span class=\"toc-item-num\">5.2.3&nbsp;&nbsp;</span>Convolutional Neural Network</a></span></li></ul></li></ul></li></ul></div>"
   ]
  },
  {
   "cell_type": "code",
   "execution_count": 136,
   "metadata": {
    "ExecuteTime": {
     "end_time": "2020-08-15T05:53:47.242275Z",
     "start_time": "2020-08-15T05:53:47.236266Z"
    }
   },
   "outputs": [],
   "source": [
    "import pandas as pd\n",
    "import numpy as np\n",
    "\n",
    "import re\n",
    "import string\n",
    "\n",
    "import nltk\n",
    "from nltk.corpus import stopwords\n",
    "from nltk.stem import WordNetLemmatizer\n",
    "from nltk.stem import PorterStemmer\n",
    "#nltk.download('wordnet')\n",
    "\n",
    "import gensim\n",
    "from gensim.models.word2vec import Word2Vec\n",
    "\n",
    "from sklearn.linear_model import LogisticRegression\n",
    "from sklearn import naive_bayes\n",
    "from sklearn import tree\n",
    "from sklearn.ensemble import RandomForestClassifier\n",
    "from sklearn.svm import SVC\n",
    "from sklearn.linear_model import SGDClassifier\n",
    "\n",
    "from sklearn.model_selection import GridSearchCV\n",
    "\n",
    "from sklearn.metrics import accuracy_score, precision_score, recall_score, f1_score, roc_auc_score, confusion_matrix, classification_report\n",
    "\n",
    "import tensorflow\n",
    "from tensorflow.keras.preprocessing.sequence import pad_sequences\n",
    "from tensorflow.keras.models import Sequential\n",
    "from tensorflow.keras.layers import Dense, Flatten, Dropout\n",
    "\n",
    "from tensorflow.keras.layers import Embedding\n",
    "from tensorflow.python.keras.preprocessing.text import Tokenizer\n",
    "\n",
    "from tensorflow.keras.layers import Conv1D, GlobalMaxPooling1D\n",
    "\n",
    "from tensorflow.keras.callbacks import ModelCheckpoint\n",
    "\n",
    "import matplotlib.pyplot as plt\n",
    "import seaborn as sns"
   ]
  },
  {
   "cell_type": "code",
   "execution_count": 198,
   "metadata": {
    "ExecuteTime": {
     "end_time": "2020-08-15T11:17:42.286428Z",
     "start_time": "2020-08-15T11:17:42.282440Z"
    }
   },
   "outputs": [],
   "source": []
  },
  {
   "cell_type": "markdown",
   "metadata": {},
   "source": [
    "## Load and Analyse"
   ]
  },
  {
   "cell_type": "code",
   "execution_count": 55,
   "metadata": {
    "ExecuteTime": {
     "end_time": "2020-08-15T04:38:50.767107Z",
     "start_time": "2020-08-15T04:38:50.643370Z"
    }
   },
   "outputs": [],
   "source": [
    "data = pd.read_csv('Combined_News_DJIA.csv')"
   ]
  },
  {
   "cell_type": "code",
   "execution_count": 57,
   "metadata": {
    "ExecuteTime": {
     "end_time": "2020-08-15T04:39:00.031445Z",
     "start_time": "2020-08-15T04:38:59.995543Z"
    }
   },
   "outputs": [
    {
     "data": {
      "text/html": [
       "<div>\n",
       "<style scoped>\n",
       "    .dataframe tbody tr th:only-of-type {\n",
       "        vertical-align: middle;\n",
       "    }\n",
       "\n",
       "    .dataframe tbody tr th {\n",
       "        vertical-align: top;\n",
       "    }\n",
       "\n",
       "    .dataframe thead th {\n",
       "        text-align: right;\n",
       "    }\n",
       "</style>\n",
       "<table border=\"1\" class=\"dataframe\">\n",
       "  <thead>\n",
       "    <tr style=\"text-align: right;\">\n",
       "      <th></th>\n",
       "      <th>Date</th>\n",
       "      <th>Label</th>\n",
       "      <th>Top1</th>\n",
       "      <th>Top2</th>\n",
       "      <th>Top3</th>\n",
       "      <th>Top4</th>\n",
       "      <th>Top5</th>\n",
       "      <th>Top6</th>\n",
       "      <th>Top7</th>\n",
       "      <th>Top8</th>\n",
       "      <th>...</th>\n",
       "      <th>Top16</th>\n",
       "      <th>Top17</th>\n",
       "      <th>Top18</th>\n",
       "      <th>Top19</th>\n",
       "      <th>Top20</th>\n",
       "      <th>Top21</th>\n",
       "      <th>Top22</th>\n",
       "      <th>Top23</th>\n",
       "      <th>Top24</th>\n",
       "      <th>Top25</th>\n",
       "    </tr>\n",
       "  </thead>\n",
       "  <tbody>\n",
       "    <tr>\n",
       "      <td>0</td>\n",
       "      <td>2008-08-08</td>\n",
       "      <td>0</td>\n",
       "      <td>b\"Georgia 'downs two Russian warplanes' as cou...</td>\n",
       "      <td>b'BREAKING: Musharraf to be impeached.'</td>\n",
       "      <td>b'Russia Today: Columns of troops roll into So...</td>\n",
       "      <td>b'Russian tanks are moving towards the capital...</td>\n",
       "      <td>b\"Afghan children raped with 'impunity,' U.N. ...</td>\n",
       "      <td>b'150 Russian tanks have entered South Ossetia...</td>\n",
       "      <td>b\"Breaking: Georgia invades South Ossetia, Rus...</td>\n",
       "      <td>b\"The 'enemy combatent' trials are nothing but...</td>\n",
       "      <td>...</td>\n",
       "      <td>b'Georgia Invades South Ossetia - if Russia ge...</td>\n",
       "      <td>b'Al-Qaeda Faces Islamist Backlash'</td>\n",
       "      <td>b'Condoleezza Rice: \"The US would not act to p...</td>\n",
       "      <td>b'This is a busy day:  The European Union has ...</td>\n",
       "      <td>b\"Georgia will withdraw 1,000 soldiers from Ir...</td>\n",
       "      <td>b'Why the Pentagon Thinks Attacking Iran is a ...</td>\n",
       "      <td>b'Caucasus in crisis: Georgia invades South Os...</td>\n",
       "      <td>b'Indian shoe manufactory  - And again in a se...</td>\n",
       "      <td>b'Visitors Suffering from Mental Illnesses Ban...</td>\n",
       "      <td>b\"No Help for Mexico's Kidnapping Surge\"</td>\n",
       "    </tr>\n",
       "    <tr>\n",
       "      <td>1</td>\n",
       "      <td>2008-08-11</td>\n",
       "      <td>1</td>\n",
       "      <td>b'Why wont America and Nato help us? If they w...</td>\n",
       "      <td>b'Bush puts foot down on Georgian conflict'</td>\n",
       "      <td>b\"Jewish Georgian minister: Thanks to Israeli ...</td>\n",
       "      <td>b'Georgian army flees in disarray as Russians ...</td>\n",
       "      <td>b\"Olympic opening ceremony fireworks 'faked'\"</td>\n",
       "      <td>b'What were the Mossad with fraudulent New Zea...</td>\n",
       "      <td>b'Russia angered by Israeli military sale to G...</td>\n",
       "      <td>b'An American citizen living in S.Ossetia blam...</td>\n",
       "      <td>...</td>\n",
       "      <td>b'Israel and the US behind the Georgian aggres...</td>\n",
       "      <td>b'\"Do not believe TV, neither Russian nor Geor...</td>\n",
       "      <td>b'Riots are still going on in Montreal (Canada...</td>\n",
       "      <td>b'China to overtake US as largest manufacturer'</td>\n",
       "      <td>b'War in South Ossetia [PICS]'</td>\n",
       "      <td>b'Israeli Physicians Group Condemns State Tort...</td>\n",
       "      <td>b' Russia has just beaten the United States ov...</td>\n",
       "      <td>b'Perhaps *the* question about the Georgia - R...</td>\n",
       "      <td>b'Russia is so much better at war'</td>\n",
       "      <td>b\"So this is what it's come to: trading sex fo...</td>\n",
       "    </tr>\n",
       "    <tr>\n",
       "      <td>2</td>\n",
       "      <td>2008-08-12</td>\n",
       "      <td>0</td>\n",
       "      <td>b'Remember that adorable 9-year-old who sang a...</td>\n",
       "      <td>b\"Russia 'ends Georgia operation'\"</td>\n",
       "      <td>b'\"If we had no sexual harassment we would hav...</td>\n",
       "      <td>b\"Al-Qa'eda is losing support in Iraq because ...</td>\n",
       "      <td>b'Ceasefire in Georgia: Putin Outmaneuvers the...</td>\n",
       "      <td>b'Why Microsoft and Intel tried to kill the XO...</td>\n",
       "      <td>b'Stratfor: The Russo-Georgian War and the Bal...</td>\n",
       "      <td>b\"I'm Trying to Get a Sense of This Whole Geor...</td>\n",
       "      <td>...</td>\n",
       "      <td>b'U.S. troops still in Georgia (did you know t...</td>\n",
       "      <td>b'Why Russias response to Georgia was right'</td>\n",
       "      <td>b'Gorbachev accuses U.S. of making a \"serious ...</td>\n",
       "      <td>b'Russia, Georgia, and NATO: Cold War Two'</td>\n",
       "      <td>b'Remember that adorable 62-year-old who led y...</td>\n",
       "      <td>b'War in Georgia: The Israeli connection'</td>\n",
       "      <td>b'All signs point to the US encouraging Georgi...</td>\n",
       "      <td>b'Christopher King argues that the US and NATO...</td>\n",
       "      <td>b'America: The New Mexico?'</td>\n",
       "      <td>b\"BBC NEWS | Asia-Pacific | Extinction 'by man...</td>\n",
       "    </tr>\n",
       "    <tr>\n",
       "      <td>3</td>\n",
       "      <td>2008-08-13</td>\n",
       "      <td>0</td>\n",
       "      <td>b' U.S. refuses Israel weapons to attack Iran:...</td>\n",
       "      <td>b\"When the president ordered to attack Tskhinv...</td>\n",
       "      <td>b' Israel clears troops who killed Reuters cam...</td>\n",
       "      <td>b'Britain\\'s policy of being tough on drugs is...</td>\n",
       "      <td>b'Body of 14 year old found in trunk; Latest (...</td>\n",
       "      <td>b'China has moved 10 *million* quake survivors...</td>\n",
       "      <td>b\"Bush announces Operation Get All Up In Russi...</td>\n",
       "      <td>b'Russian forces sink Georgian ships '</td>\n",
       "      <td>...</td>\n",
       "      <td>b'Elephants extinct by 2020?'</td>\n",
       "      <td>b'US humanitarian missions soon in Georgia - i...</td>\n",
       "      <td>b\"Georgia's DDOS came from US sources\"</td>\n",
       "      <td>b'Russian convoy heads into Georgia, violating...</td>\n",
       "      <td>b'Israeli defence minister: US against strike ...</td>\n",
       "      <td>b'Gorbachev: We Had No Choice'</td>\n",
       "      <td>b'Witness: Russian forces head towards Tbilisi...</td>\n",
       "      <td>b' Quarter of Russians blame U.S. for conflict...</td>\n",
       "      <td>b'Georgian president  says US military will ta...</td>\n",
       "      <td>b'2006: Nobel laureate Aleksander Solzhenitsyn...</td>\n",
       "    </tr>\n",
       "    <tr>\n",
       "      <td>4</td>\n",
       "      <td>2008-08-14</td>\n",
       "      <td>1</td>\n",
       "      <td>b'All the experts admit that we should legalis...</td>\n",
       "      <td>b'War in South Osetia - 89 pictures made by a ...</td>\n",
       "      <td>b'Swedish wrestler Ara Abrahamian throws away ...</td>\n",
       "      <td>b'Russia exaggerated the death toll in South O...</td>\n",
       "      <td>b'Missile That Killed 9 Inside Pakistan May Ha...</td>\n",
       "      <td>b\"Rushdie Condemns Random House's Refusal to P...</td>\n",
       "      <td>b'Poland and US agree to missle defense deal. ...</td>\n",
       "      <td>b'Will the Russians conquer Tblisi? Bet on it,...</td>\n",
       "      <td>...</td>\n",
       "      <td>b'Bank analyst forecast Georgian crisis 2 days...</td>\n",
       "      <td>b\"Georgia confict could set back Russia's US r...</td>\n",
       "      <td>b'War in the Caucasus is as much the product o...</td>\n",
       "      <td>b'\"Non-media\" photos of South Ossetia/Georgia ...</td>\n",
       "      <td>b'Georgian TV reporter shot by Russian sniper ...</td>\n",
       "      <td>b'Saudi Arabia: Mother moves to block child ma...</td>\n",
       "      <td>b'Taliban wages war on humanitarian aid workers'</td>\n",
       "      <td>b'Russia: World  \"can forget about\" Georgia\\'s...</td>\n",
       "      <td>b'Darfur rebels accuse Sudan of mounting major...</td>\n",
       "      <td>b'Philippines : Peace Advocate say Muslims nee...</td>\n",
       "    </tr>\n",
       "  </tbody>\n",
       "</table>\n",
       "<p>5 rows × 27 columns</p>\n",
       "</div>"
      ],
      "text/plain": [
       "         Date  Label                                               Top1  \\\n",
       "0  2008-08-08      0  b\"Georgia 'downs two Russian warplanes' as cou...   \n",
       "1  2008-08-11      1  b'Why wont America and Nato help us? If they w...   \n",
       "2  2008-08-12      0  b'Remember that adorable 9-year-old who sang a...   \n",
       "3  2008-08-13      0  b' U.S. refuses Israel weapons to attack Iran:...   \n",
       "4  2008-08-14      1  b'All the experts admit that we should legalis...   \n",
       "\n",
       "                                                Top2  \\\n",
       "0            b'BREAKING: Musharraf to be impeached.'   \n",
       "1        b'Bush puts foot down on Georgian conflict'   \n",
       "2                 b\"Russia 'ends Georgia operation'\"   \n",
       "3  b\"When the president ordered to attack Tskhinv...   \n",
       "4  b'War in South Osetia - 89 pictures made by a ...   \n",
       "\n",
       "                                                Top3  \\\n",
       "0  b'Russia Today: Columns of troops roll into So...   \n",
       "1  b\"Jewish Georgian minister: Thanks to Israeli ...   \n",
       "2  b'\"If we had no sexual harassment we would hav...   \n",
       "3  b' Israel clears troops who killed Reuters cam...   \n",
       "4  b'Swedish wrestler Ara Abrahamian throws away ...   \n",
       "\n",
       "                                                Top4  \\\n",
       "0  b'Russian tanks are moving towards the capital...   \n",
       "1  b'Georgian army flees in disarray as Russians ...   \n",
       "2  b\"Al-Qa'eda is losing support in Iraq because ...   \n",
       "3  b'Britain\\'s policy of being tough on drugs is...   \n",
       "4  b'Russia exaggerated the death toll in South O...   \n",
       "\n",
       "                                                Top5  \\\n",
       "0  b\"Afghan children raped with 'impunity,' U.N. ...   \n",
       "1      b\"Olympic opening ceremony fireworks 'faked'\"   \n",
       "2  b'Ceasefire in Georgia: Putin Outmaneuvers the...   \n",
       "3  b'Body of 14 year old found in trunk; Latest (...   \n",
       "4  b'Missile That Killed 9 Inside Pakistan May Ha...   \n",
       "\n",
       "                                                Top6  \\\n",
       "0  b'150 Russian tanks have entered South Ossetia...   \n",
       "1  b'What were the Mossad with fraudulent New Zea...   \n",
       "2  b'Why Microsoft and Intel tried to kill the XO...   \n",
       "3  b'China has moved 10 *million* quake survivors...   \n",
       "4  b\"Rushdie Condemns Random House's Refusal to P...   \n",
       "\n",
       "                                                Top7  \\\n",
       "0  b\"Breaking: Georgia invades South Ossetia, Rus...   \n",
       "1  b'Russia angered by Israeli military sale to G...   \n",
       "2  b'Stratfor: The Russo-Georgian War and the Bal...   \n",
       "3  b\"Bush announces Operation Get All Up In Russi...   \n",
       "4  b'Poland and US agree to missle defense deal. ...   \n",
       "\n",
       "                                                Top8  ...  \\\n",
       "0  b\"The 'enemy combatent' trials are nothing but...  ...   \n",
       "1  b'An American citizen living in S.Ossetia blam...  ...   \n",
       "2  b\"I'm Trying to Get a Sense of This Whole Geor...  ...   \n",
       "3             b'Russian forces sink Georgian ships '  ...   \n",
       "4  b'Will the Russians conquer Tblisi? Bet on it,...  ...   \n",
       "\n",
       "                                               Top16  \\\n",
       "0  b'Georgia Invades South Ossetia - if Russia ge...   \n",
       "1  b'Israel and the US behind the Georgian aggres...   \n",
       "2  b'U.S. troops still in Georgia (did you know t...   \n",
       "3                      b'Elephants extinct by 2020?'   \n",
       "4  b'Bank analyst forecast Georgian crisis 2 days...   \n",
       "\n",
       "                                               Top17  \\\n",
       "0                b'Al-Qaeda Faces Islamist Backlash'   \n",
       "1  b'\"Do not believe TV, neither Russian nor Geor...   \n",
       "2       b'Why Russias response to Georgia was right'   \n",
       "3  b'US humanitarian missions soon in Georgia - i...   \n",
       "4  b\"Georgia confict could set back Russia's US r...   \n",
       "\n",
       "                                               Top18  \\\n",
       "0  b'Condoleezza Rice: \"The US would not act to p...   \n",
       "1  b'Riots are still going on in Montreal (Canada...   \n",
       "2  b'Gorbachev accuses U.S. of making a \"serious ...   \n",
       "3             b\"Georgia's DDOS came from US sources\"   \n",
       "4  b'War in the Caucasus is as much the product o...   \n",
       "\n",
       "                                               Top19  \\\n",
       "0  b'This is a busy day:  The European Union has ...   \n",
       "1    b'China to overtake US as largest manufacturer'   \n",
       "2         b'Russia, Georgia, and NATO: Cold War Two'   \n",
       "3  b'Russian convoy heads into Georgia, violating...   \n",
       "4  b'\"Non-media\" photos of South Ossetia/Georgia ...   \n",
       "\n",
       "                                               Top20  \\\n",
       "0  b\"Georgia will withdraw 1,000 soldiers from Ir...   \n",
       "1                     b'War in South Ossetia [PICS]'   \n",
       "2  b'Remember that adorable 62-year-old who led y...   \n",
       "3  b'Israeli defence minister: US against strike ...   \n",
       "4  b'Georgian TV reporter shot by Russian sniper ...   \n",
       "\n",
       "                                               Top21  \\\n",
       "0  b'Why the Pentagon Thinks Attacking Iran is a ...   \n",
       "1  b'Israeli Physicians Group Condemns State Tort...   \n",
       "2          b'War in Georgia: The Israeli connection'   \n",
       "3                     b'Gorbachev: We Had No Choice'   \n",
       "4  b'Saudi Arabia: Mother moves to block child ma...   \n",
       "\n",
       "                                               Top22  \\\n",
       "0  b'Caucasus in crisis: Georgia invades South Os...   \n",
       "1  b' Russia has just beaten the United States ov...   \n",
       "2  b'All signs point to the US encouraging Georgi...   \n",
       "3  b'Witness: Russian forces head towards Tbilisi...   \n",
       "4   b'Taliban wages war on humanitarian aid workers'   \n",
       "\n",
       "                                               Top23  \\\n",
       "0  b'Indian shoe manufactory  - And again in a se...   \n",
       "1  b'Perhaps *the* question about the Georgia - R...   \n",
       "2  b'Christopher King argues that the US and NATO...   \n",
       "3  b' Quarter of Russians blame U.S. for conflict...   \n",
       "4  b'Russia: World  \"can forget about\" Georgia\\'s...   \n",
       "\n",
       "                                               Top24  \\\n",
       "0  b'Visitors Suffering from Mental Illnesses Ban...   \n",
       "1                 b'Russia is so much better at war'   \n",
       "2                        b'America: The New Mexico?'   \n",
       "3  b'Georgian president  says US military will ta...   \n",
       "4  b'Darfur rebels accuse Sudan of mounting major...   \n",
       "\n",
       "                                               Top25  \n",
       "0           b\"No Help for Mexico's Kidnapping Surge\"  \n",
       "1  b\"So this is what it's come to: trading sex fo...  \n",
       "2  b\"BBC NEWS | Asia-Pacific | Extinction 'by man...  \n",
       "3  b'2006: Nobel laureate Aleksander Solzhenitsyn...  \n",
       "4  b'Philippines : Peace Advocate say Muslims nee...  \n",
       "\n",
       "[5 rows x 27 columns]"
      ]
     },
     "execution_count": 57,
     "metadata": {},
     "output_type": "execute_result"
    }
   ],
   "source": [
    "data.head()"
   ]
  },
  {
   "cell_type": "code",
   "execution_count": 4,
   "metadata": {
    "ExecuteTime": {
     "end_time": "2020-08-15T04:13:39.864794Z",
     "start_time": "2020-08-15T04:13:39.857813Z"
    }
   },
   "outputs": [
    {
     "data": {
      "text/plain": [
       "(1989, 27)"
      ]
     },
     "execution_count": 4,
     "metadata": {},
     "output_type": "execute_result"
    }
   ],
   "source": [
    "data.shape"
   ]
  },
  {
   "cell_type": "code",
   "execution_count": 5,
   "metadata": {
    "ExecuteTime": {
     "end_time": "2020-08-15T04:13:39.931618Z",
     "start_time": "2020-08-15T04:13:39.924633Z"
    }
   },
   "outputs": [
    {
     "data": {
      "text/plain": [
       "dtype('O')"
      ]
     },
     "execution_count": 5,
     "metadata": {},
     "output_type": "execute_result"
    }
   ],
   "source": [
    "data.Date.dtype"
   ]
  },
  {
   "cell_type": "code",
   "execution_count": 6,
   "metadata": {
    "ExecuteTime": {
     "end_time": "2020-08-15T04:13:40.042320Z",
     "start_time": "2020-08-15T04:13:40.006415Z"
    }
   },
   "outputs": [],
   "source": [
    "data.Date = pd.to_datetime(data.Date)"
   ]
  },
  {
   "cell_type": "code",
   "execution_count": 7,
   "metadata": {
    "ExecuteTime": {
     "end_time": "2020-08-15T04:13:40.141054Z",
     "start_time": "2020-08-15T04:13:40.133078Z"
    }
   },
   "outputs": [
    {
     "data": {
      "text/plain": [
       "dtype('<M8[ns]')"
      ]
     },
     "execution_count": 7,
     "metadata": {},
     "output_type": "execute_result"
    }
   ],
   "source": [
    "data.Date.dtype"
   ]
  },
  {
   "cell_type": "code",
   "execution_count": 8,
   "metadata": {
    "ExecuteTime": {
     "end_time": "2020-08-15T04:13:40.208875Z",
     "start_time": "2020-08-15T04:13:40.198902Z"
    }
   },
   "outputs": [
    {
     "data": {
      "text/plain": [
       "Timestamp('2008-08-08 00:00:00')"
      ]
     },
     "execution_count": 8,
     "metadata": {},
     "output_type": "execute_result"
    }
   ],
   "source": [
    "data.Date.min()"
   ]
  },
  {
   "cell_type": "code",
   "execution_count": 9,
   "metadata": {
    "ExecuteTime": {
     "end_time": "2020-08-15T04:13:40.291683Z",
     "start_time": "2020-08-15T04:13:40.285671Z"
    }
   },
   "outputs": [
    {
     "data": {
      "text/plain": [
       "Timestamp('2016-07-01 00:00:00')"
      ]
     },
     "execution_count": 9,
     "metadata": {},
     "output_type": "execute_result"
    }
   ],
   "source": [
    "data.Date.max()"
   ]
  },
  {
   "cell_type": "code",
   "execution_count": 10,
   "metadata": {
    "ExecuteTime": {
     "end_time": "2020-08-15T04:13:40.364461Z",
     "start_time": "2020-08-15T04:13:40.347503Z"
    }
   },
   "outputs": [
    {
     "data": {
      "text/plain": [
       "Timedelta('2884 days 00:00:00')"
      ]
     },
     "execution_count": 10,
     "metadata": {},
     "output_type": "execute_result"
    }
   ],
   "source": [
    "(data.Date.max() - data.Date.min())"
   ]
  },
  {
   "cell_type": "code",
   "execution_count": 11,
   "metadata": {
    "ExecuteTime": {
     "end_time": "2020-08-15T04:13:40.461234Z",
     "start_time": "2020-08-15T04:13:40.427289Z"
    },
    "scrolled": true
   },
   "outputs": [
    {
     "data": {
      "text/html": [
       "<div>\n",
       "<style scoped>\n",
       "    .dataframe tbody tr th:only-of-type {\n",
       "        vertical-align: middle;\n",
       "    }\n",
       "\n",
       "    .dataframe tbody tr th {\n",
       "        vertical-align: top;\n",
       "    }\n",
       "\n",
       "    .dataframe thead th {\n",
       "        text-align: right;\n",
       "    }\n",
       "</style>\n",
       "<table border=\"1\" class=\"dataframe\">\n",
       "  <thead>\n",
       "    <tr style=\"text-align: right;\">\n",
       "      <th></th>\n",
       "      <th>Date</th>\n",
       "      <th>Label</th>\n",
       "      <th>Top1</th>\n",
       "      <th>Top2</th>\n",
       "      <th>Top3</th>\n",
       "      <th>Top4</th>\n",
       "      <th>Top5</th>\n",
       "      <th>Top6</th>\n",
       "      <th>Top7</th>\n",
       "      <th>Top8</th>\n",
       "      <th>...</th>\n",
       "      <th>Top16</th>\n",
       "      <th>Top17</th>\n",
       "      <th>Top18</th>\n",
       "      <th>Top19</th>\n",
       "      <th>Top20</th>\n",
       "      <th>Top21</th>\n",
       "      <th>Top22</th>\n",
       "      <th>Top23</th>\n",
       "      <th>Top24</th>\n",
       "      <th>Top25</th>\n",
       "    </tr>\n",
       "  </thead>\n",
       "  <tbody>\n",
       "    <tr>\n",
       "      <td>0</td>\n",
       "      <td>2008-08-08</td>\n",
       "      <td>0</td>\n",
       "      <td>b\"Georgia 'downs two Russian warplanes' as cou...</td>\n",
       "      <td>b'BREAKING: Musharraf to be impeached.'</td>\n",
       "      <td>b'Russia Today: Columns of troops roll into So...</td>\n",
       "      <td>b'Russian tanks are moving towards the capital...</td>\n",
       "      <td>b\"Afghan children raped with 'impunity,' U.N. ...</td>\n",
       "      <td>b'150 Russian tanks have entered South Ossetia...</td>\n",
       "      <td>b\"Breaking: Georgia invades South Ossetia, Rus...</td>\n",
       "      <td>b\"The 'enemy combatent' trials are nothing but...</td>\n",
       "      <td>...</td>\n",
       "      <td>b'Georgia Invades South Ossetia - if Russia ge...</td>\n",
       "      <td>b'Al-Qaeda Faces Islamist Backlash'</td>\n",
       "      <td>b'Condoleezza Rice: \"The US would not act to p...</td>\n",
       "      <td>b'This is a busy day:  The European Union has ...</td>\n",
       "      <td>b\"Georgia will withdraw 1,000 soldiers from Ir...</td>\n",
       "      <td>b'Why the Pentagon Thinks Attacking Iran is a ...</td>\n",
       "      <td>b'Caucasus in crisis: Georgia invades South Os...</td>\n",
       "      <td>b'Indian shoe manufactory  - And again in a se...</td>\n",
       "      <td>b'Visitors Suffering from Mental Illnesses Ban...</td>\n",
       "      <td>b\"No Help for Mexico's Kidnapping Surge\"</td>\n",
       "    </tr>\n",
       "  </tbody>\n",
       "</table>\n",
       "<p>1 rows × 27 columns</p>\n",
       "</div>"
      ],
      "text/plain": [
       "        Date  Label                                               Top1  \\\n",
       "0 2008-08-08      0  b\"Georgia 'downs two Russian warplanes' as cou...   \n",
       "\n",
       "                                      Top2  \\\n",
       "0  b'BREAKING: Musharraf to be impeached.'   \n",
       "\n",
       "                                                Top3  \\\n",
       "0  b'Russia Today: Columns of troops roll into So...   \n",
       "\n",
       "                                                Top4  \\\n",
       "0  b'Russian tanks are moving towards the capital...   \n",
       "\n",
       "                                                Top5  \\\n",
       "0  b\"Afghan children raped with 'impunity,' U.N. ...   \n",
       "\n",
       "                                                Top6  \\\n",
       "0  b'150 Russian tanks have entered South Ossetia...   \n",
       "\n",
       "                                                Top7  \\\n",
       "0  b\"Breaking: Georgia invades South Ossetia, Rus...   \n",
       "\n",
       "                                                Top8  ...  \\\n",
       "0  b\"The 'enemy combatent' trials are nothing but...  ...   \n",
       "\n",
       "                                               Top16  \\\n",
       "0  b'Georgia Invades South Ossetia - if Russia ge...   \n",
       "\n",
       "                                 Top17  \\\n",
       "0  b'Al-Qaeda Faces Islamist Backlash'   \n",
       "\n",
       "                                               Top18  \\\n",
       "0  b'Condoleezza Rice: \"The US would not act to p...   \n",
       "\n",
       "                                               Top19  \\\n",
       "0  b'This is a busy day:  The European Union has ...   \n",
       "\n",
       "                                               Top20  \\\n",
       "0  b\"Georgia will withdraw 1,000 soldiers from Ir...   \n",
       "\n",
       "                                               Top21  \\\n",
       "0  b'Why the Pentagon Thinks Attacking Iran is a ...   \n",
       "\n",
       "                                               Top22  \\\n",
       "0  b'Caucasus in crisis: Georgia invades South Os...   \n",
       "\n",
       "                                               Top23  \\\n",
       "0  b'Indian shoe manufactory  - And again in a se...   \n",
       "\n",
       "                                               Top24  \\\n",
       "0  b'Visitors Suffering from Mental Illnesses Ban...   \n",
       "\n",
       "                                      Top25  \n",
       "0  b\"No Help for Mexico's Kidnapping Surge\"  \n",
       "\n",
       "[1 rows x 27 columns]"
      ]
     },
     "execution_count": 11,
     "metadata": {},
     "output_type": "execute_result"
    }
   ],
   "source": [
    "data.head(1)"
   ]
  },
  {
   "cell_type": "code",
   "execution_count": 12,
   "metadata": {
    "ExecuteTime": {
     "end_time": "2020-08-15T04:13:55.087426Z",
     "start_time": "2020-08-15T04:13:55.077444Z"
    },
    "collapsed": true
   },
   "outputs": [
    {
     "data": {
      "text/plain": [
       "Date     0\n",
       "Label    0\n",
       "Top1     0\n",
       "Top2     0\n",
       "Top3     0\n",
       "Top4     0\n",
       "Top5     0\n",
       "Top6     0\n",
       "Top7     0\n",
       "Top8     0\n",
       "Top9     0\n",
       "Top10    0\n",
       "Top11    0\n",
       "Top12    0\n",
       "Top13    0\n",
       "Top14    0\n",
       "Top15    0\n",
       "Top16    0\n",
       "Top17    0\n",
       "Top18    0\n",
       "Top19    0\n",
       "Top20    0\n",
       "Top21    0\n",
       "Top22    0\n",
       "Top23    1\n",
       "Top24    3\n",
       "Top25    3\n",
       "dtype: int64"
      ]
     },
     "execution_count": 12,
     "metadata": {},
     "output_type": "execute_result"
    }
   ],
   "source": [
    "data.isnull().sum()"
   ]
  },
  {
   "cell_type": "code",
   "execution_count": 13,
   "metadata": {
    "ExecuteTime": {
     "end_time": "2020-08-15T04:14:04.193674Z",
     "start_time": "2020-08-15T04:14:04.168741Z"
    }
   },
   "outputs": [
    {
     "name": "stderr",
     "output_type": "stream",
     "text": [
      "D:\\Anaconda\\lib\\site-packages\\ipykernel_launcher.py:1: FutureWarning: Series.nonzero() is deprecated and will be removed in a future version.Use Series.to_numpy().nonzero() instead\n",
      "  \"\"\"Entry point for launching an IPython kernel.\n"
     ]
    },
    {
     "data": {
      "text/plain": [
       "array([277, 348, 681], dtype=int64)"
      ]
     },
     "execution_count": 13,
     "metadata": {},
     "output_type": "execute_result"
    }
   ],
   "source": [
    "null_indices = pd.isnull(data).any(axis = 1).nonzero()[0]\n",
    "null_indices"
   ]
  },
  {
   "cell_type": "code",
   "execution_count": 14,
   "metadata": {
    "ExecuteTime": {
     "end_time": "2020-08-15T04:14:06.239273Z",
     "start_time": "2020-08-15T04:14:06.068988Z"
    }
   },
   "outputs": [
    {
     "data": {
      "text/html": [
       "<div>\n",
       "<style scoped>\n",
       "    .dataframe tbody tr th:only-of-type {\n",
       "        vertical-align: middle;\n",
       "    }\n",
       "\n",
       "    .dataframe tbody tr th {\n",
       "        vertical-align: top;\n",
       "    }\n",
       "\n",
       "    .dataframe thead th {\n",
       "        text-align: right;\n",
       "    }\n",
       "</style>\n",
       "<table border=\"1\" class=\"dataframe\">\n",
       "  <thead>\n",
       "    <tr style=\"text-align: right;\">\n",
       "      <th></th>\n",
       "      <th>Date</th>\n",
       "      <th>Label</th>\n",
       "      <th>Top1</th>\n",
       "      <th>Top2</th>\n",
       "      <th>Top3</th>\n",
       "      <th>Top4</th>\n",
       "      <th>Top5</th>\n",
       "      <th>Top6</th>\n",
       "      <th>Top7</th>\n",
       "      <th>Top8</th>\n",
       "      <th>...</th>\n",
       "      <th>Top16</th>\n",
       "      <th>Top17</th>\n",
       "      <th>Top18</th>\n",
       "      <th>Top19</th>\n",
       "      <th>Top20</th>\n",
       "      <th>Top21</th>\n",
       "      <th>Top22</th>\n",
       "      <th>Top23</th>\n",
       "      <th>Top24</th>\n",
       "      <th>Top25</th>\n",
       "    </tr>\n",
       "  </thead>\n",
       "  <tbody>\n",
       "    <tr>\n",
       "      <td>277</td>\n",
       "      <td>2009-09-15</td>\n",
       "      <td>1</td>\n",
       "      <td>b'The Church of Scientology won\\'t be dissolve...</td>\n",
       "      <td>b'New virus from rats can kill 80 per cent of ...</td>\n",
       "      <td>b'The gruesome spectacle of dolphins being sla...</td>\n",
       "      <td>b'The End of Innocence in Afghanistan: \\'The G...</td>\n",
       "      <td>b'France approves Internet piracy bill'</td>\n",
       "      <td>b'The Rural Doctors Association says right now...</td>\n",
       "      <td>b'Al Jazeera English - Africa - Shabab to aven...</td>\n",
       "      <td>b\"How Sri Lanka governs through detentions - S...</td>\n",
       "      <td>...</td>\n",
       "      <td>b'In an equine echo of the controversy surroun...</td>\n",
       "      <td>b'UPDATE: 5-New York homes raided in terrorism...</td>\n",
       "      <td>b'Population Growth Impeding Progress on the M...</td>\n",
       "      <td>b'Global Population to Reach 7 Billion by 2011'</td>\n",
       "      <td>b'Government Funded Feminist Porn '</td>\n",
       "      <td>b'Can someone enlighten me re:Holy Land disput...</td>\n",
       "      <td>b'Human Rights Watch official suspended for co...</td>\n",
       "      <td>NaN</td>\n",
       "      <td>NaN</td>\n",
       "      <td>NaN</td>\n",
       "    </tr>\n",
       "    <tr>\n",
       "      <td>348</td>\n",
       "      <td>2009-12-24</td>\n",
       "      <td>1</td>\n",
       "      <td>b'Woman knocks down Pope Benedict at Christmas...</td>\n",
       "      <td>b'Ugandan President Museveni says he will bloc...</td>\n",
       "      <td>b\"Venezuela's Chavez threatens to kick out car...</td>\n",
       "      <td>b'Woman who knocked down pope had pasta in her...</td>\n",
       "      <td>b'450 people from 21 countries, including 30 f...</td>\n",
       "      <td>b'Chvez declares Angel Falls is no more: World...</td>\n",
       "      <td>b'Drug tests catch out 10 police (UK)'</td>\n",
       "      <td>b'Once the worlds fourth-largest lake, the Ara...</td>\n",
       "      <td>...</td>\n",
       "      <td>b'Pig farts spark Australia gas scare - I shit...</td>\n",
       "      <td>b'Bin Laden daughter flees to Saudi embassy in...</td>\n",
       "      <td>b'Traumatic Brain Injuries:  Growing evidence ...</td>\n",
       "      <td>b'The Pakistan Supreme Court has ordered the P...</td>\n",
       "      <td>b\"Here's a video the Taliban released this mor...</td>\n",
       "      <td>b'Fireworks set off aboard airliner'</td>\n",
       "      <td>b'Five VA men may face terrorism charges, Paki...</td>\n",
       "      <td>b\"Ayatollah Montazeri's Legacy:  In death he m...</td>\n",
       "      <td>NaN</td>\n",
       "      <td>NaN</td>\n",
       "    </tr>\n",
       "    <tr>\n",
       "      <td>681</td>\n",
       "      <td>2011-04-21</td>\n",
       "      <td>1</td>\n",
       "      <td>Director of \"Restrepo\" and Photographer Chris ...</td>\n",
       "      <td>Everyone within 20km of Fukushima will be forc...</td>\n",
       "      <td>Bahrain: Activist Zaynab Al-Khawaja's letter t...</td>\n",
       "      <td>More than 80,000 people are claiming incapacit...</td>\n",
       "      <td>Libya: 'mission creep' claims as UK sends in m...</td>\n",
       "      <td>Japan considers banning access to evacuation zone</td>\n",
       "      <td>Chinese oil giant Sinopec has stopped exportin...</td>\n",
       "      <td>6.0-magnitude earthquake strikes off east coas...</td>\n",
       "      <td>...</td>\n",
       "      <td>Russian migration official fired in racism row...</td>\n",
       "      <td>Small amounts of radioactive iodine found in b...</td>\n",
       "      <td>War photographer, Oscar-nominated film directo...</td>\n",
       "      <td>Effeminate boys are being sent to a special ca...</td>\n",
       "      <td>Japan Government Declares 12-Mile Area Around ...</td>\n",
       "      <td>TEPCO admitted Wednesday that nuclear fuel in ...</td>\n",
       "      <td>Fukushima evacuees face arrest if they return ...</td>\n",
       "      <td>Prince Charles wins some kind of a record</td>\n",
       "      <td>NaN</td>\n",
       "      <td>NaN</td>\n",
       "    </tr>\n",
       "  </tbody>\n",
       "</table>\n",
       "<p>3 rows × 27 columns</p>\n",
       "</div>"
      ],
      "text/plain": [
       "          Date  Label                                               Top1  \\\n",
       "277 2009-09-15      1  b'The Church of Scientology won\\'t be dissolve...   \n",
       "348 2009-12-24      1  b'Woman knocks down Pope Benedict at Christmas...   \n",
       "681 2011-04-21      1  Director of \"Restrepo\" and Photographer Chris ...   \n",
       "\n",
       "                                                  Top2  \\\n",
       "277  b'New virus from rats can kill 80 per cent of ...   \n",
       "348  b'Ugandan President Museveni says he will bloc...   \n",
       "681  Everyone within 20km of Fukushima will be forc...   \n",
       "\n",
       "                                                  Top3  \\\n",
       "277  b'The gruesome spectacle of dolphins being sla...   \n",
       "348  b\"Venezuela's Chavez threatens to kick out car...   \n",
       "681  Bahrain: Activist Zaynab Al-Khawaja's letter t...   \n",
       "\n",
       "                                                  Top4  \\\n",
       "277  b'The End of Innocence in Afghanistan: \\'The G...   \n",
       "348  b'Woman who knocked down pope had pasta in her...   \n",
       "681  More than 80,000 people are claiming incapacit...   \n",
       "\n",
       "                                                  Top5  \\\n",
       "277            b'France approves Internet piracy bill'   \n",
       "348  b'450 people from 21 countries, including 30 f...   \n",
       "681  Libya: 'mission creep' claims as UK sends in m...   \n",
       "\n",
       "                                                  Top6  \\\n",
       "277  b'The Rural Doctors Association says right now...   \n",
       "348  b'Chvez declares Angel Falls is no more: World...   \n",
       "681  Japan considers banning access to evacuation zone   \n",
       "\n",
       "                                                  Top7  \\\n",
       "277  b'Al Jazeera English - Africa - Shabab to aven...   \n",
       "348             b'Drug tests catch out 10 police (UK)'   \n",
       "681  Chinese oil giant Sinopec has stopped exportin...   \n",
       "\n",
       "                                                  Top8  ...  \\\n",
       "277  b\"How Sri Lanka governs through detentions - S...  ...   \n",
       "348  b'Once the worlds fourth-largest lake, the Ara...  ...   \n",
       "681  6.0-magnitude earthquake strikes off east coas...  ...   \n",
       "\n",
       "                                                 Top16  \\\n",
       "277  b'In an equine echo of the controversy surroun...   \n",
       "348  b'Pig farts spark Australia gas scare - I shit...   \n",
       "681  Russian migration official fired in racism row...   \n",
       "\n",
       "                                                 Top17  \\\n",
       "277  b'UPDATE: 5-New York homes raided in terrorism...   \n",
       "348  b'Bin Laden daughter flees to Saudi embassy in...   \n",
       "681  Small amounts of radioactive iodine found in b...   \n",
       "\n",
       "                                                 Top18  \\\n",
       "277  b'Population Growth Impeding Progress on the M...   \n",
       "348  b'Traumatic Brain Injuries:  Growing evidence ...   \n",
       "681  War photographer, Oscar-nominated film directo...   \n",
       "\n",
       "                                                 Top19  \\\n",
       "277    b'Global Population to Reach 7 Billion by 2011'   \n",
       "348  b'The Pakistan Supreme Court has ordered the P...   \n",
       "681  Effeminate boys are being sent to a special ca...   \n",
       "\n",
       "                                                 Top20  \\\n",
       "277                b'Government Funded Feminist Porn '   \n",
       "348  b\"Here's a video the Taliban released this mor...   \n",
       "681  Japan Government Declares 12-Mile Area Around ...   \n",
       "\n",
       "                                                 Top21  \\\n",
       "277  b'Can someone enlighten me re:Holy Land disput...   \n",
       "348               b'Fireworks set off aboard airliner'   \n",
       "681  TEPCO admitted Wednesday that nuclear fuel in ...   \n",
       "\n",
       "                                                 Top22  \\\n",
       "277  b'Human Rights Watch official suspended for co...   \n",
       "348  b'Five VA men may face terrorism charges, Paki...   \n",
       "681  Fukushima evacuees face arrest if they return ...   \n",
       "\n",
       "                                                 Top23 Top24 Top25  \n",
       "277                                                NaN   NaN   NaN  \n",
       "348  b\"Ayatollah Montazeri's Legacy:  In death he m...   NaN   NaN  \n",
       "681          Prince Charles wins some kind of a record   NaN   NaN  \n",
       "\n",
       "[3 rows x 27 columns]"
      ]
     },
     "execution_count": 14,
     "metadata": {},
     "output_type": "execute_result"
    }
   ],
   "source": [
    "data.iloc[null_indices]"
   ]
  },
  {
   "cell_type": "code",
   "execution_count": 15,
   "metadata": {
    "ExecuteTime": {
     "end_time": "2020-08-15T04:14:06.885286Z",
     "start_time": "2020-08-15T04:14:06.882262Z"
    }
   },
   "outputs": [],
   "source": [
    "# Three datapoints have NAN values. Since these are news headlines, \n",
    "# replace with empty string '' to denote the absence of headlines for that day."
   ]
  },
  {
   "cell_type": "code",
   "execution_count": 16,
   "metadata": {
    "ExecuteTime": {
     "end_time": "2020-08-15T04:14:07.585663Z",
     "start_time": "2020-08-15T04:14:07.565685Z"
    }
   },
   "outputs": [],
   "source": [
    "data.fillna(value='', inplace=True)"
   ]
  },
  {
   "cell_type": "code",
   "execution_count": 17,
   "metadata": {
    "ExecuteTime": {
     "end_time": "2020-08-15T04:14:07.763693Z",
     "start_time": "2020-08-15T04:14:07.733803Z"
    }
   },
   "outputs": [
    {
     "data": {
      "text/html": [
       "<div>\n",
       "<style scoped>\n",
       "    .dataframe tbody tr th:only-of-type {\n",
       "        vertical-align: middle;\n",
       "    }\n",
       "\n",
       "    .dataframe tbody tr th {\n",
       "        vertical-align: top;\n",
       "    }\n",
       "\n",
       "    .dataframe thead th {\n",
       "        text-align: right;\n",
       "    }\n",
       "</style>\n",
       "<table border=\"1\" class=\"dataframe\">\n",
       "  <thead>\n",
       "    <tr style=\"text-align: right;\">\n",
       "      <th></th>\n",
       "      <th>Date</th>\n",
       "      <th>Label</th>\n",
       "      <th>Top1</th>\n",
       "      <th>Top2</th>\n",
       "      <th>Top3</th>\n",
       "      <th>Top4</th>\n",
       "      <th>Top5</th>\n",
       "      <th>Top6</th>\n",
       "      <th>Top7</th>\n",
       "      <th>Top8</th>\n",
       "      <th>...</th>\n",
       "      <th>Top16</th>\n",
       "      <th>Top17</th>\n",
       "      <th>Top18</th>\n",
       "      <th>Top19</th>\n",
       "      <th>Top20</th>\n",
       "      <th>Top21</th>\n",
       "      <th>Top22</th>\n",
       "      <th>Top23</th>\n",
       "      <th>Top24</th>\n",
       "      <th>Top25</th>\n",
       "    </tr>\n",
       "  </thead>\n",
       "  <tbody>\n",
       "    <tr>\n",
       "      <td>277</td>\n",
       "      <td>2009-09-15</td>\n",
       "      <td>1</td>\n",
       "      <td>b'The Church of Scientology won\\'t be dissolve...</td>\n",
       "      <td>b'New virus from rats can kill 80 per cent of ...</td>\n",
       "      <td>b'The gruesome spectacle of dolphins being sla...</td>\n",
       "      <td>b'The End of Innocence in Afghanistan: \\'The G...</td>\n",
       "      <td>b'France approves Internet piracy bill'</td>\n",
       "      <td>b'The Rural Doctors Association says right now...</td>\n",
       "      <td>b'Al Jazeera English - Africa - Shabab to aven...</td>\n",
       "      <td>b\"How Sri Lanka governs through detentions - S...</td>\n",
       "      <td>...</td>\n",
       "      <td>b'In an equine echo of the controversy surroun...</td>\n",
       "      <td>b'UPDATE: 5-New York homes raided in terrorism...</td>\n",
       "      <td>b'Population Growth Impeding Progress on the M...</td>\n",
       "      <td>b'Global Population to Reach 7 Billion by 2011'</td>\n",
       "      <td>b'Government Funded Feminist Porn '</td>\n",
       "      <td>b'Can someone enlighten me re:Holy Land disput...</td>\n",
       "      <td>b'Human Rights Watch official suspended for co...</td>\n",
       "      <td></td>\n",
       "      <td></td>\n",
       "      <td></td>\n",
       "    </tr>\n",
       "    <tr>\n",
       "      <td>348</td>\n",
       "      <td>2009-12-24</td>\n",
       "      <td>1</td>\n",
       "      <td>b'Woman knocks down Pope Benedict at Christmas...</td>\n",
       "      <td>b'Ugandan President Museveni says he will bloc...</td>\n",
       "      <td>b\"Venezuela's Chavez threatens to kick out car...</td>\n",
       "      <td>b'Woman who knocked down pope had pasta in her...</td>\n",
       "      <td>b'450 people from 21 countries, including 30 f...</td>\n",
       "      <td>b'Chvez declares Angel Falls is no more: World...</td>\n",
       "      <td>b'Drug tests catch out 10 police (UK)'</td>\n",
       "      <td>b'Once the worlds fourth-largest lake, the Ara...</td>\n",
       "      <td>...</td>\n",
       "      <td>b'Pig farts spark Australia gas scare - I shit...</td>\n",
       "      <td>b'Bin Laden daughter flees to Saudi embassy in...</td>\n",
       "      <td>b'Traumatic Brain Injuries:  Growing evidence ...</td>\n",
       "      <td>b'The Pakistan Supreme Court has ordered the P...</td>\n",
       "      <td>b\"Here's a video the Taliban released this mor...</td>\n",
       "      <td>b'Fireworks set off aboard airliner'</td>\n",
       "      <td>b'Five VA men may face terrorism charges, Paki...</td>\n",
       "      <td>b\"Ayatollah Montazeri's Legacy:  In death he m...</td>\n",
       "      <td></td>\n",
       "      <td></td>\n",
       "    </tr>\n",
       "    <tr>\n",
       "      <td>681</td>\n",
       "      <td>2011-04-21</td>\n",
       "      <td>1</td>\n",
       "      <td>Director of \"Restrepo\" and Photographer Chris ...</td>\n",
       "      <td>Everyone within 20km of Fukushima will be forc...</td>\n",
       "      <td>Bahrain: Activist Zaynab Al-Khawaja's letter t...</td>\n",
       "      <td>More than 80,000 people are claiming incapacit...</td>\n",
       "      <td>Libya: 'mission creep' claims as UK sends in m...</td>\n",
       "      <td>Japan considers banning access to evacuation zone</td>\n",
       "      <td>Chinese oil giant Sinopec has stopped exportin...</td>\n",
       "      <td>6.0-magnitude earthquake strikes off east coas...</td>\n",
       "      <td>...</td>\n",
       "      <td>Russian migration official fired in racism row...</td>\n",
       "      <td>Small amounts of radioactive iodine found in b...</td>\n",
       "      <td>War photographer, Oscar-nominated film directo...</td>\n",
       "      <td>Effeminate boys are being sent to a special ca...</td>\n",
       "      <td>Japan Government Declares 12-Mile Area Around ...</td>\n",
       "      <td>TEPCO admitted Wednesday that nuclear fuel in ...</td>\n",
       "      <td>Fukushima evacuees face arrest if they return ...</td>\n",
       "      <td>Prince Charles wins some kind of a record</td>\n",
       "      <td></td>\n",
       "      <td></td>\n",
       "    </tr>\n",
       "  </tbody>\n",
       "</table>\n",
       "<p>3 rows × 27 columns</p>\n",
       "</div>"
      ],
      "text/plain": [
       "          Date  Label                                               Top1  \\\n",
       "277 2009-09-15      1  b'The Church of Scientology won\\'t be dissolve...   \n",
       "348 2009-12-24      1  b'Woman knocks down Pope Benedict at Christmas...   \n",
       "681 2011-04-21      1  Director of \"Restrepo\" and Photographer Chris ...   \n",
       "\n",
       "                                                  Top2  \\\n",
       "277  b'New virus from rats can kill 80 per cent of ...   \n",
       "348  b'Ugandan President Museveni says he will bloc...   \n",
       "681  Everyone within 20km of Fukushima will be forc...   \n",
       "\n",
       "                                                  Top3  \\\n",
       "277  b'The gruesome spectacle of dolphins being sla...   \n",
       "348  b\"Venezuela's Chavez threatens to kick out car...   \n",
       "681  Bahrain: Activist Zaynab Al-Khawaja's letter t...   \n",
       "\n",
       "                                                  Top4  \\\n",
       "277  b'The End of Innocence in Afghanistan: \\'The G...   \n",
       "348  b'Woman who knocked down pope had pasta in her...   \n",
       "681  More than 80,000 people are claiming incapacit...   \n",
       "\n",
       "                                                  Top5  \\\n",
       "277            b'France approves Internet piracy bill'   \n",
       "348  b'450 people from 21 countries, including 30 f...   \n",
       "681  Libya: 'mission creep' claims as UK sends in m...   \n",
       "\n",
       "                                                  Top6  \\\n",
       "277  b'The Rural Doctors Association says right now...   \n",
       "348  b'Chvez declares Angel Falls is no more: World...   \n",
       "681  Japan considers banning access to evacuation zone   \n",
       "\n",
       "                                                  Top7  \\\n",
       "277  b'Al Jazeera English - Africa - Shabab to aven...   \n",
       "348             b'Drug tests catch out 10 police (UK)'   \n",
       "681  Chinese oil giant Sinopec has stopped exportin...   \n",
       "\n",
       "                                                  Top8  ...  \\\n",
       "277  b\"How Sri Lanka governs through detentions - S...  ...   \n",
       "348  b'Once the worlds fourth-largest lake, the Ara...  ...   \n",
       "681  6.0-magnitude earthquake strikes off east coas...  ...   \n",
       "\n",
       "                                                 Top16  \\\n",
       "277  b'In an equine echo of the controversy surroun...   \n",
       "348  b'Pig farts spark Australia gas scare - I shit...   \n",
       "681  Russian migration official fired in racism row...   \n",
       "\n",
       "                                                 Top17  \\\n",
       "277  b'UPDATE: 5-New York homes raided in terrorism...   \n",
       "348  b'Bin Laden daughter flees to Saudi embassy in...   \n",
       "681  Small amounts of radioactive iodine found in b...   \n",
       "\n",
       "                                                 Top18  \\\n",
       "277  b'Population Growth Impeding Progress on the M...   \n",
       "348  b'Traumatic Brain Injuries:  Growing evidence ...   \n",
       "681  War photographer, Oscar-nominated film directo...   \n",
       "\n",
       "                                                 Top19  \\\n",
       "277    b'Global Population to Reach 7 Billion by 2011'   \n",
       "348  b'The Pakistan Supreme Court has ordered the P...   \n",
       "681  Effeminate boys are being sent to a special ca...   \n",
       "\n",
       "                                                 Top20  \\\n",
       "277                b'Government Funded Feminist Porn '   \n",
       "348  b\"Here's a video the Taliban released this mor...   \n",
       "681  Japan Government Declares 12-Mile Area Around ...   \n",
       "\n",
       "                                                 Top21  \\\n",
       "277  b'Can someone enlighten me re:Holy Land disput...   \n",
       "348               b'Fireworks set off aboard airliner'   \n",
       "681  TEPCO admitted Wednesday that nuclear fuel in ...   \n",
       "\n",
       "                                                 Top22  \\\n",
       "277  b'Human Rights Watch official suspended for co...   \n",
       "348  b'Five VA men may face terrorism charges, Paki...   \n",
       "681  Fukushima evacuees face arrest if they return ...   \n",
       "\n",
       "                                                 Top23 Top24 Top25  \n",
       "277                                                                 \n",
       "348  b\"Ayatollah Montazeri's Legacy:  In death he m...              \n",
       "681          Prince Charles wins some kind of a record              \n",
       "\n",
       "[3 rows x 27 columns]"
      ]
     },
     "execution_count": 17,
     "metadata": {},
     "output_type": "execute_result"
    }
   ],
   "source": [
    "data.iloc[null_indices]"
   ]
  },
  {
   "cell_type": "code",
   "execution_count": 18,
   "metadata": {
    "ExecuteTime": {
     "end_time": "2020-08-15T04:14:08.865287Z",
     "start_time": "2020-08-15T04:14:08.862285Z"
    }
   },
   "outputs": [],
   "source": [
    "# Check how many columns have an empty string in the entire dataframe."
   ]
  },
  {
   "cell_type": "markdown",
   "metadata": {},
   "source": [
    "## Preprocessing"
   ]
  },
  {
   "cell_type": "markdown",
   "metadata": {},
   "source": [
    "### Structuring the data"
   ]
  },
  {
   "cell_type": "markdown",
   "metadata": {
    "ExecuteTime": {
     "end_time": "2020-08-15T04:14:10.096039Z",
     "start_time": "2020-08-15T04:14:10.093056Z"
    }
   },
   "source": [
    "All the 25 headlines for a day is combined into a single headline document.\\\n",
    "The date and label is also added into a new dataframe called as news."
   ]
  },
  {
   "cell_type": "code",
   "execution_count": 20,
   "metadata": {
    "ExecuteTime": {
     "end_time": "2020-08-15T04:14:10.697814Z",
     "start_time": "2020-08-15T04:14:10.482363Z"
    },
    "scrolled": true
   },
   "outputs": [],
   "source": [
    "documents = []\n",
    "news = pd.DataFrame(data[data.columns[2:]].agg(' '.join, axis = 1))"
   ]
  },
  {
   "cell_type": "code",
   "execution_count": 21,
   "metadata": {
    "ExecuteTime": {
     "end_time": "2020-08-15T04:14:12.023547Z",
     "start_time": "2020-08-15T04:14:12.017565Z"
    }
   },
   "outputs": [],
   "source": [
    "news = pd.concat([data.Date, news, data.Label], axis = 1)\n",
    "news.columns = ['Date', 'Text', 'Label']"
   ]
  },
  {
   "cell_type": "code",
   "execution_count": 157,
   "metadata": {
    "ExecuteTime": {
     "end_time": "2020-08-15T06:16:46.633875Z",
     "start_time": "2020-08-15T06:16:46.498238Z"
    }
   },
   "outputs": [
    {
     "data": {
      "text/plain": [
       "'Georgia downs two Russian warplanes as countries move to brink of war BREAKING Musharraf to be impeached Russia Today Columns of troops roll into South Ossetia footage from fighting YouTube Russian tanks are moving towards the capital of South Ossetia which has reportedly been completely destroyed by Georgian artillery fire Afghan children raped with impunity UN official says - this is sick a three year old was raped and they do nothing 150 Russian tanks have entered South Ossetia whilst Georgia shoots down two Russian jets Breaking Georgia invades South Ossetia Russia warned it would intervene on SOs side The enemy combatent trials are nothing but a sham Salim Haman has been sentenced to 5 1/2 years but will be kept longer anyway just because they feel like it Georgian troops retreat from S Osettain capital presumably leaving several hundred people killed VIDEO Did the US Prep Georgia for War with Russia Rice Gives Green Light for Israel to Attack Iran Says US has no veto over Israeli military ops AnnouncingClass Action Lawsuit on Behalf of American Public Against the FBI So---Russia and Georgia are at war and the NYTs top story is opening ceremonies of the Olympics  What a fucking disgrace and yet further proof of the decline of journalism China tells Bush to stay out of other countries affairs Did World War III start today Georgia Invades South Ossetia - if Russia gets involved will NATO absorb Georgia and unleash a full scale war Al-Qaeda Faces Islamist Backlash Condoleezza Rice The US would not act to prevent an Israeli strike on Iran Israeli Defense Minister Ehud Barak Israel is prepared for uncompromising victory in the case of military hostilities This is a busy day  The European Union has approved new sanctions against Iran in protest at its nuclear programme Georgia will withdraw 1000 soldiers from Iraq to help fight off Russian forces in Georgias breakaway region of South Ossetia Why the Pentagon Thinks Attacking Iran is a Bad Idea - US News &amp World Report Caucasus in crisis Georgia invades South Ossetia Indian shoe manufactory  - And again in a series of you do not like your work Visitors Suffering from Mental Illnesses Banned from Olympics No Help for Mexicos Kidnapping Surge'"
      ]
     },
     "execution_count": 157,
     "metadata": {},
     "output_type": "execute_result"
    }
   ],
   "source": [
    "# r\"b\\\\\\'|\\\\\\'|b\\\"|\\'nb|\"\n",
    "\n",
    "# When using or '|' in regex, start with the biggest pattern to match first followed by other smaller patters.\n",
    "\n",
    "# For example, when r\"b\\'\" and r\"b\" are patterns to be removed, the regex should be in the order r\"b\\'|b\". \n",
    "# If not, the pattern r\"b\"  would be found first and the \\' maybe ignored.\n",
    "\n",
    "news.Text = news.Text.str.replace(pat=r\"b\\'|b\\\"|\\'|\\\"|[.;:!\\'?,\\\"()\\[\\]]\", repl=\"\", regex=True)\n",
    "news.Text.iloc[0]"
   ]
  },
  {
   "cell_type": "markdown",
   "metadata": {},
   "source": [
    "Shown above is the same text as shown before cleaned using regex."
   ]
  },
  {
   "cell_type": "markdown",
   "metadata": {},
   "source": [
    "### Text Preprocessing"
   ]
  },
  {
   "cell_type": "markdown",
   "metadata": {
    "ExecuteTime": {
     "end_time": "2020-08-15T04:14:27.231094Z",
     "start_time": "2020-08-15T04:14:27.227107Z"
    }
   },
   "source": [
    "Before preprocessing, the data is split into train and test. The vocabulary should be built only on the train data.\n",
    "\n",
    "from 2008-08-08 to 2014-12-31 as Training Set, and Test Set is then the following two years data (from 2015-01-02 to 2016-07-01)"
   ]
  },
  {
   "cell_type": "code",
   "execution_count": 164,
   "metadata": {
    "ExecuteTime": {
     "end_time": "2020-08-15T06:44:01.503841Z",
     "start_time": "2020-08-15T06:44:01.493840Z"
    }
   },
   "outputs": [],
   "source": [
    "train = news[(news['Date'] >= pd.to_datetime('2008-08-08')) & (news['Date'] <= pd.to_datetime('2014-12-31'))]\n",
    "test = news[(news['Date'] >= pd.to_datetime('2015-01-02')) & (news['Date'] <= pd.to_datetime('2016-07-01'))]\n",
    "\n",
    "y_train = train.Label.to_list()\n",
    "y_test = test.Label.to_list()"
   ]
  },
  {
   "cell_type": "markdown",
   "metadata": {
    "ExecuteTime": {
     "end_time": "2020-08-30T07:19:57.475483Z",
     "start_time": "2020-08-30T07:19:57.470466Z"
    }
   },
   "source": [
    "Three different preprocessing steps are defined. This is done to differentiate results in terms of preprocessing."
   ]
  },
  {
   "cell_type": "code",
   "execution_count": 137,
   "metadata": {
    "ExecuteTime": {
     "end_time": "2020-08-15T05:53:50.525950Z",
     "start_time": "2020-08-15T05:53:50.515948Z"
    }
   },
   "outputs": [],
   "source": [
    "punctuations = string.punctuation.replace(\"\", \" \").split()\n",
    "stopwords = set(stopwords.words('english'))\n",
    "lemmatizer = WordNetLemmatizer()\n",
    "ps = PorterStemmer()\n",
    "\n",
    "# Tokenization + Punctuation + Stop Words + Lemmatization\n",
    "def preprocess_news_1(news):\n",
    "    news = news.lower()\n",
    "    tokens = nltk.word_tokenize(news)\n",
    "    clean_words = [lemmatizer.lemmatize(tok) for tok in tokens if tok not in punctuations and tok not in stopwords and len(tok) > 1]\n",
    "    \n",
    "    return ' '.join(clean_words)\n",
    "\n",
    "# Tokenization + Punctuation + Lemmatization\n",
    "def preprocess_news_2(news):\n",
    "    news = news.lower()\n",
    "    tokens = nltk.word_tokenize(news)\n",
    "    clean_words = [lemmatizer.lemmatize(tok) for tok in tokens if tok not in punctuations and len(tok) > 1]\n",
    "    \n",
    "    return ' '.join(clean_words)\n",
    "\n",
    "# Tokenization + Punctuation + Stemming\n",
    "def preprocess_news_3(news):\n",
    "    news = news.lower()\n",
    "    tokens = nltk.word_tokenize(news)\n",
    "    clean_words = [ps.stem(tok) for tok in tokens if tok not in punctuations and len(tok) > 1]\n",
    "\n",
    "    return ' '.join(clean_words)\n"
   ]
  },
  {
   "cell_type": "code",
   "execution_count": 153,
   "metadata": {
    "ExecuteTime": {
     "end_time": "2020-08-15T06:12:18.540943Z",
     "start_time": "2020-08-15T06:12:18.536922Z"
    }
   },
   "outputs": [],
   "source": [
    "preprocessing = [preprocess_news_1, preprocess_news_2, preprocess_news_3]"
   ]
  },
  {
   "cell_type": "code",
   "execution_count": 27,
   "metadata": {
    "ExecuteTime": {
     "end_time": "2020-08-15T04:14:33.442454Z",
     "start_time": "2020-08-15T04:14:31.582397Z"
    }
   },
   "outputs": [],
   "source": [
    "train_clean = train.Text.apply(preprocess_news).to_list()\n",
    "X_train = [i.split() for i in train_clean]\n",
    "y_train = train.Label.to_list()\n",
    "\n",
    "test_clean = test.Text.apply(preprocess_news).to_list()\n",
    "X_test = [i.split() for i in test_clean]\n",
    "y_test = test.Label.to_list()"
   ]
  },
  {
   "cell_type": "code",
   "execution_count": 29,
   "metadata": {
    "ExecuteTime": {
     "end_time": "2020-08-14T01:40:05.883601Z",
     "start_time": "2020-08-14T01:40:05.877615Z"
    }
   },
   "outputs": [
    {
     "name": "stdout",
     "output_type": "stream",
     "text": [
      "1611 (1611,) 378 (378,)\n"
     ]
    }
   ],
   "source": [
    "print(len(X_train), y_train.shape, len(X_test), y_test.shape)"
   ]
  },
  {
   "cell_type": "markdown",
   "metadata": {},
   "source": [
    "## Word Embeddings"
   ]
  },
  {
   "cell_type": "markdown",
   "metadata": {},
   "source": [
    "Every preprocessing method is used to train the following Word2Vec models:\n",
    "\n",
    "    1. 64d Skipgram\n",
    "    2. 64d CBOW\n",
    "    3. 128d Skipgram\n",
    "    4. 128d CBOW"
   ]
  },
  {
   "cell_type": "code",
   "execution_count": 163,
   "metadata": {
    "ExecuteTime": {
     "end_time": "2020-08-15T06:38:53.023835Z",
     "start_time": "2020-08-15T06:38:53.014861Z"
    }
   },
   "outputs": [],
   "source": [
    "def get_Word2Vec_models(X_train, preprocessing_index):\n",
    "    \n",
    "    model_64_sg = Word2Vec(sentences=X_train, size=64,\n",
    "                           sg=1, window=10, iter=5,\n",
    "                           min_count=2, workers=4)\n",
    "    model_64_sg.wv.save_word2vec_format('word2vec_64_sg_' + str(preprocessing_index) +'.txt', binary=False)\n",
    "    \n",
    "    model_64_cbow = Word2Vec(sentences=X_train, size=64, \n",
    "                             sg=0, window=5, iter=5,\n",
    "                             min_count=2, workers=4)\n",
    "    model_64_cbow.wv.save_word2vec_format('word2vec_64_cbow_' + str(preprocessing_index) +'.txt', binary=False)\n",
    "    \n",
    "    model_128_sg = Word2Vec(sentences=X_train, size=128,\n",
    "                            sg=1, window=10, iter=5,\n",
    "                            min_count=2, workers=4)\n",
    "    model_128_sg.wv.save_word2vec_format('word2vec_128_sg_' + str(preprocessing_index) +'.txt', binary=False)\n",
    "    \n",
    "    model_128_cbow = Word2Vec(sentences=X_train, size=128,\n",
    "                              sg=0, window=5, iter=5,\n",
    "                              min_count=2, workers=4)\n",
    "    model_128_cbow.wv.save_word2vec_format('word2vec_128_cbow_' + str(preprocessing_index) +'.txt', binary=False)\n",
    "    \n",
    "    return [model_64_sg, model_64_cbow, model_128_sg, model_128_cbow]"
   ]
  },
  {
   "cell_type": "code",
   "execution_count": 36,
   "metadata": {
    "ExecuteTime": {
     "end_time": "2020-08-14T01:40:22.919103Z",
     "start_time": "2020-08-14T01:40:22.914116Z"
    }
   },
   "outputs": [
    {
     "name": "stdout",
     "output_type": "stream",
     "text": [
      "Word in Vocabulary :  20826\n"
     ]
    }
   ],
   "source": [
    "print('Word in Vocabulary : ', len(model.wv.vocab))"
   ]
  },
  {
   "cell_type": "code",
   "execution_count": 37,
   "metadata": {
    "ExecuteTime": {
     "end_time": "2020-08-14T01:40:23.470290Z",
     "start_time": "2020-08-14T01:40:23.232265Z"
    },
    "collapsed": true
   },
   "outputs": [
    {
     "data": {
      "text/plain": [
       "[('barack', 0.9324471354484558),\n",
       " ('administration', 0.8562558889389038),\n",
       " ('chavez', 0.8426466584205627),\n",
       " ('obamas', 0.8256567120552063),\n",
       " ('bpresident', 0.8253248333930969),\n",
       " ('ahmadinejad', 0.8111671209335327),\n",
       " ('fm', 0.7826610803604126),\n",
       " ('admin', 0.7816630005836487),\n",
       " ('castro', 0.7809790968894958),\n",
       " ('chvez', 0.779906690120697)]"
      ]
     },
     "execution_count": 37,
     "metadata": {},
     "output_type": "execute_result"
    }
   ],
   "source": [
    "model.wv.most_similar('obama')"
   ]
  },
  {
   "cell_type": "code",
   "execution_count": 38,
   "metadata": {
    "ExecuteTime": {
     "end_time": "2020-08-14T01:40:23.842407Z",
     "start_time": "2020-08-14T01:40:23.813403Z"
    }
   },
   "outputs": [
    {
     "name": "stderr",
     "output_type": "stream",
     "text": [
      "D:\\Anaconda\\lib\\site-packages\\gensim\\models\\keyedvectors.py:877: FutureWarning: arrays to stack must be passed as a \"sequence\" type such as list or tuple. Support for non-sequence iterables such as generators is deprecated as of NumPy 1.16 and will raise an error in the future.\n",
      "  vectors = vstack(self.word_vec(word, use_norm=True) for word in used_words).astype(REAL)\n"
     ]
    },
    {
     "data": {
      "text/plain": [
       "'dog'"
      ]
     },
     "execution_count": 38,
     "metadata": {},
     "output_type": "execute_result"
    }
   ],
   "source": [
    "model.wv.doesnt_match(\"mother father sister brother dog\".split())"
   ]
  },
  {
   "cell_type": "code",
   "execution_count": 39,
   "metadata": {
    "ExecuteTime": {
     "end_time": "2020-08-14T01:40:24.131638Z",
     "start_time": "2020-08-14T01:40:24.124624Z"
    }
   },
   "outputs": [
    {
     "data": {
      "text/plain": [
       "'england'"
      ]
     },
     "execution_count": 39,
     "metadata": {},
     "output_type": "execute_result"
    }
   ],
   "source": [
    "model.wv.doesnt_match(\"france england germany berlin\".split())"
   ]
  },
  {
   "cell_type": "code",
   "execution_count": 40,
   "metadata": {
    "ExecuteTime": {
     "end_time": "2020-08-14T01:40:24.428811Z",
     "start_time": "2020-08-14T01:40:24.421857Z"
    }
   },
   "outputs": [
    {
     "data": {
      "text/plain": [
       "[('raped', 0.81412672996521),\n",
       " ('her', 0.8101285696029663),\n",
       " ('herself', 0.8048563003540039),\n",
       " ('rapist', 0.8044365644454956),\n",
       " ('honour', 0.8011881113052368),\n",
       " ('underage', 0.7964402437210083),\n",
       " ('pregnant', 0.7956597208976746),\n",
       " ('girl', 0.792364239692688),\n",
       " ('daughter', 0.7864694595336914),\n",
       " ('womans', 0.7848000526428223)]"
      ]
     },
     "execution_count": 40,
     "metadata": {},
     "output_type": "execute_result"
    }
   ],
   "source": [
    "model.wv.most_similar(positive=['husband', 'woman'], negative=['man'])"
   ]
  },
  {
   "cell_type": "markdown",
   "metadata": {},
   "source": [
    "## Feature Engineering for Traditional ML"
   ]
  },
  {
   "cell_type": "markdown",
   "metadata": {},
   "source": [
    "For example, let us consider an input of 10 words and a 64d word2vec model.\n",
    "\n",
    "A single input datapoint now consists of many words. For example, say 10 words. As a result of the Word2Vec model, every word is represented as a 64 dimension vector. Thus, we have ten 64 dimension vectors.\n",
    "\n",
    "As an input to the ML algorithm, these vectors can be aggregated to a single form. Two ways of doing that are:\n",
    "\n",
    "1. Mean of all the ten 64 dimension vectors to get a single 64 dimension vector.\n",
    "2. Sum of all the ten 64 dimension vectors to get a single 64 dimension vector.\n",
    "\n",
    "The function _get_WordEmbedding_features_ acheives the same"
   ]
  },
  {
   "cell_type": "code",
   "execution_count": 41,
   "metadata": {
    "ExecuteTime": {
     "end_time": "2020-08-14T01:40:24.760956Z",
     "start_time": "2020-08-14T01:40:24.756934Z"
    }
   },
   "outputs": [
    {
     "name": "stdout",
     "output_type": "stream",
     "text": [
      "Total number of words in vocabulary along with shape :  (20826, 64)\n"
     ]
    }
   ],
   "source": [
    "print('Total number of words in vocabulary along with shape : ', model.wv.vectors.shape)"
   ]
  },
  {
   "cell_type": "code",
   "execution_count": 228,
   "metadata": {
    "ExecuteTime": {
     "end_time": "2020-08-15T11:28:25.394686Z",
     "start_time": "2020-08-15T11:28:25.387703Z"
    }
   },
   "outputs": [],
   "source": [
    "def get_WordEmbedding_features(list_of_reviews, model):\n",
    "    vector_size = model.vector_size\n",
    "    mean_paragraph_vector = []\n",
    "    sum_paragraph_vector = []\n",
    "    \n",
    "    #[word for review in list_of_reviews for word in review if ]\n",
    "    \n",
    "    for i in range(len(list_of_reviews)):\n",
    "        paragraph_vector = [model.wv[word] for word in list_of_reviews[i] if word in model.wv]\n",
    "                \n",
    "        mean_paragraph_vector.append(np.array(np.mean(np.array(paragraph_vector), axis = 0)))\n",
    "        sum_paragraph_vector.append(np.array(np.sum(np.array(paragraph_vector), axis = 0)))\n",
    "        \n",
    "    return [np.array(mean_paragraph_vector), np.array(sum_paragraph_vector)]"
   ]
  },
  {
   "cell_type": "code",
   "execution_count": null,
   "metadata": {},
   "outputs": [],
   "source": [
    "get_WordEmbedding_features(X_train, Word2Vec_models[0])"
   ]
  },
  {
   "cell_type": "code",
   "execution_count": 250,
   "metadata": {
    "ExecuteTime": {
     "end_time": "2020-08-16T01:22:19.439746Z",
     "start_time": "2020-08-16T01:22:10.159491Z"
    }
   },
   "outputs": [],
   "source": [
    "X_train_mean_paragraph_vector, X_train_sum_paragraph_vector = get_WordEmbedding_features(X_train, Word2Vec_models[0])\n",
    "X_test_mean_paragraph_vector, X_test_sum_paragraph_vector = get_WordEmbedding_features(X_test, Word2Vec_models[0])"
   ]
  },
  {
   "cell_type": "markdown",
   "metadata": {},
   "source": [
    "## Modelling"
   ]
  },
  {
   "cell_type": "markdown",
   "metadata": {
    "ExecuteTime": {
     "end_time": "2020-08-15T06:01:16.687409Z",
     "start_time": "2020-08-15T06:01:16.681456Z"
    }
   },
   "source": [
    "Algorithms from tradition ML models to DL models is applied in this section. The general structure of the flow is as follows:\n",
    "    \n",
    "For each preprocessing method:\n",
    ">For each Word2Vec model:\n",
    ">>For each learning algorithm:\n",
    ">>>-Measure Performace "
   ]
  },
  {
   "cell_type": "code",
   "execution_count": 222,
   "metadata": {
    "ExecuteTime": {
     "end_time": "2020-08-15T11:26:53.826691Z",
     "start_time": "2020-08-15T11:26:53.808741Z"
    }
   },
   "outputs": [],
   "source": [
    "def fit_logistic_regression(X_train, y_train):\n",
    "\n",
    "    lr = LogisticRegression()\n",
    "    lr_param_grid = {'solver' : ['lbfgs', 'sag', 'newton-cg', 'saga'],\n",
    "                     'penalty' : ['l2'],\n",
    "                     'C' : [0.05, 0.07, 0.09, 0.1, 0.5, 1],\n",
    "                     'max_iter' : [500, 1000],\n",
    "                    }\n",
    "\n",
    "    lr_grid_search = GridSearchCV(estimator=lr, param_grid=lr_param_grid, n_jobs=-1)\n",
    "\n",
    "    try:\n",
    "        lr_grid_search.fit(X_train, y_train)\n",
    "    except Exception as e:\n",
    "        print(e)\n",
    "    \n",
    "    print(\"\\n Logistic Regression Over\\n\")\n",
    "    return lr_grid_search\n",
    "\n",
    "def fit_naive_bayes(X_train, y_train):\n",
    "    \n",
    "    NB = naive_bayes.GaussianNB()\n",
    "    NB.fit(X_train, y_train)\n",
    "    \n",
    "    print(\"\\n Naive Bayes Over\\n\")\n",
    "    \n",
    "    return NB\n",
    "\n",
    "def fit_decision_tree(X_train, y_train):\n",
    "    dt = tree.DecisionTreeClassifier()\n",
    "    dt_param_grid = {'criterion' : ['gini', 'entropy'],\n",
    "                     'max_depth' : [2, 4, 6, 8, 10, 12],\n",
    "                     'min_samples_split' : [0.1, 0.2, 0.3, 0.4],\n",
    "                     'min_samples_leaf' : [0.1, 0.2, 0.3, 0.4, 0.5],\n",
    "                     'max_features' : [\"sqrt\", \"auto\", \"log2\"]\n",
    "                    }\n",
    "\n",
    "    dt_grid_search = GridSearchCV(dt, dt_param_grid, n_jobs = -1)\n",
    "\n",
    "    try:\n",
    "        dt_grid_search.fit(X_train, y_train)\n",
    "    except Exception as e:\n",
    "        print(e)\n",
    "    \n",
    "    print(\"\\n Decision Tree Over\\n\")\n",
    "    \n",
    "    return dt_grid_search\n",
    "    \n",
    "def fit_random_forest(X_train, y_train):\n",
    "    rf = RandomForestClassifier()\n",
    "    rf_param_grid = {'bootstrap': [True],\n",
    "                     'criterion' : [\"gini\", \"entropy\"]\n",
    "                  'max_depth': [None, 80, 90, 100, 110],\n",
    "                  'max_features': [2, 3],\n",
    "                  'min_samples_leaf': [1, 2, 3, 4, 5],\n",
    "                  'min_samples_split': [2, 4, 6, 8, 10],\n",
    "                  'n_estimators': [100, 200, 300, 1000]\n",
    "                }\n",
    "    , \n",
    "    rf_grid_search = GridSearchCV(rf, rf_param_grid, n_jobs = -1)\n",
    "\n",
    "    try:\n",
    "        rf_grid_search.fit(X_train, y_train)\n",
    "    except Exception as e:\n",
    "        print(e)\n",
    "        \n",
    "    print(\"\\n Random Forest Over\\n\")\n",
    "    \n",
    "    return rf_grid_search\n",
    "\n",
    "def fit_SVM_nonlinear(X_train, y_train):\n",
    "    \n",
    "    SVM = SVC()\n",
    "    svm_param_grid = {'C': [0.1, 1, 10, 100, 1000],  \n",
    "              'gamma': [10, 1, 0.1, 0.01, 0.001, 0.0001], \n",
    "              'kernel': ['rbf']}  \n",
    "    \n",
    "    svm_grid_search = GridSearchCV(SVM, svm_param_grid, n_jobs = -1)\n",
    "\n",
    "    try:\n",
    "        svm_grid_search.fit(X_train, y_train)\n",
    "    except Exception as e:\n",
    "        print(e)\n",
    "        \n",
    "    print(\"\\n SVM Non-Linear Over\\n\")\n",
    "    \n",
    "    return svm_grid_search\n",
    "  \n",
    "def fit_svm_linear(X_train, y_train):\n",
    "    \n",
    "    # An SGDC with hinge loss is similar to a linear SVM.\n",
    "    # These are regularized linear models and based on the loss function, the model is changed.\n",
    "    SVM = SGDClassifier(loss='hinge', penalty='l2',\n",
    "                        max_iter=5, tol=None)\n",
    "    \n",
    "    # A high value of alpha indicates a strong regularization.\n",
    "    svm_param_grid = {'alpha': [0.001, 0.01, 0.1, 1, 10, 100]}\n",
    "    \n",
    "    svm_grid_search = GridSearchCV(SVM, svm_param_grid, n_jobs = -1)\n",
    "    \n",
    "    try:\n",
    "        svm_grid_search.fit(X_train, y_train)\n",
    "    except Exception as e:\n",
    "        print(e)\n",
    "        \n",
    "    print(\"\\n Linear SVM Over\\n\")\n",
    "    \n",
    "    return svm_grid_search"
   ]
  },
  {
   "cell_type": "code",
   "execution_count": 243,
   "metadata": {
    "ExecuteTime": {
     "end_time": "2020-08-16T01:10:38.050346Z",
     "start_time": "2020-08-16T01:10:38.044360Z"
    }
   },
   "outputs": [],
   "source": [
    "# fit_naive_bayes has to be included.\n",
    "learning_algorithms = [fit_logistic_regression, fit_decision_tree, fit_random_forest, fit_svm_linear, fit_SVM_nonlinear]"
   ]
  },
  {
   "cell_type": "code",
   "execution_count": 283,
   "metadata": {
    "ExecuteTime": {
     "end_time": "2020-08-16T15:53:51.355675Z",
     "start_time": "2020-08-16T10:20:22.233058Z"
    },
    "scrolled": true
   },
   "outputs": [
    {
     "name": "stdout",
     "output_type": "stream",
     "text": [
      "\n",
      " Logistic Regression Over\n",
      "\n"
     ]
    },
    {
     "name": "stderr",
     "output_type": "stream",
     "text": [
      "D:\\Anaconda\\lib\\site-packages\\sklearn\\metrics\\_classification.py:1221: UndefinedMetricWarning: Precision and F-score are ill-defined and being set to 0.0 in labels with no predicted samples. Use `zero_division` parameter to control this behavior.\n",
      "  _warn_prf(average, modifier, msg_start, len(result))\n"
     ]
    },
    {
     "name": "stdout",
     "output_type": "stream",
     "text": [
      "\n",
      " Decision Tree Over\n",
      "\n"
     ]
    },
    {
     "name": "stderr",
     "output_type": "stream",
     "text": [
      "D:\\Anaconda\\lib\\site-packages\\sklearn\\metrics\\_classification.py:1221: UndefinedMetricWarning: Precision and F-score are ill-defined and being set to 0.0 in labels with no predicted samples. Use `zero_division` parameter to control this behavior.\n",
      "  _warn_prf(average, modifier, msg_start, len(result))\n"
     ]
    },
    {
     "name": "stdout",
     "output_type": "stream",
     "text": [
      "\n",
      " Random Forest Over\n",
      "\n",
      "\n",
      " Linear SVM Over\n",
      "\n"
     ]
    },
    {
     "name": "stderr",
     "output_type": "stream",
     "text": [
      "D:\\Anaconda\\lib\\site-packages\\sklearn\\metrics\\_classification.py:1221: UndefinedMetricWarning: Precision and F-score are ill-defined and being set to 0.0 in labels with no predicted samples. Use `zero_division` parameter to control this behavior.\n",
      "  _warn_prf(average, modifier, msg_start, len(result))\n"
     ]
    },
    {
     "name": "stdout",
     "output_type": "stream",
     "text": [
      "\n",
      " SVM Non-Linear Over\n",
      "\n"
     ]
    },
    {
     "name": "stderr",
     "output_type": "stream",
     "text": [
      "D:\\Anaconda\\lib\\site-packages\\sklearn\\metrics\\_classification.py:1221: UndefinedMetricWarning: Precision and F-score are ill-defined and being set to 0.0 in labels with no predicted samples. Use `zero_division` parameter to control this behavior.\n",
      "  _warn_prf(average, modifier, msg_start, len(result))\n",
      "D:\\Anaconda\\lib\\site-packages\\sklearn\\linear_model\\_sag.py:330: ConvergenceWarning: The max_iter was reached which means the coef_ did not converge\n",
      "  \"the coef_ did not converge\", ConvergenceWarning)\n"
     ]
    },
    {
     "name": "stdout",
     "output_type": "stream",
     "text": [
      "\n",
      " Logistic Regression Over\n",
      "\n",
      "\n",
      " Decision Tree Over\n",
      "\n",
      "\n",
      " Random Forest Over\n",
      "\n",
      "\n",
      " Linear SVM Over\n",
      "\n"
     ]
    },
    {
     "name": "stderr",
     "output_type": "stream",
     "text": [
      "D:\\Anaconda\\lib\\site-packages\\sklearn\\metrics\\_classification.py:1221: UndefinedMetricWarning: Precision and F-score are ill-defined and being set to 0.0 in labels with no predicted samples. Use `zero_division` parameter to control this behavior.\n",
      "  _warn_prf(average, modifier, msg_start, len(result))\n"
     ]
    },
    {
     "name": "stdout",
     "output_type": "stream",
     "text": [
      "\n",
      " SVM Non-Linear Over\n",
      "\n"
     ]
    },
    {
     "name": "stderr",
     "output_type": "stream",
     "text": [
      "D:\\Anaconda\\lib\\site-packages\\sklearn\\metrics\\_classification.py:1221: UndefinedMetricWarning: Precision and F-score are ill-defined and being set to 0.0 in labels with no predicted samples. Use `zero_division` parameter to control this behavior.\n",
      "  _warn_prf(average, modifier, msg_start, len(result))\n"
     ]
    },
    {
     "name": "stdout",
     "output_type": "stream",
     "text": [
      "\n",
      " Logistic Regression Over\n",
      "\n"
     ]
    },
    {
     "name": "stderr",
     "output_type": "stream",
     "text": [
      "D:\\Anaconda\\lib\\site-packages\\sklearn\\metrics\\_classification.py:1221: UndefinedMetricWarning: Precision and F-score are ill-defined and being set to 0.0 in labels with no predicted samples. Use `zero_division` parameter to control this behavior.\n",
      "  _warn_prf(average, modifier, msg_start, len(result))\n"
     ]
    },
    {
     "name": "stdout",
     "output_type": "stream",
     "text": [
      "\n",
      " Decision Tree Over\n",
      "\n"
     ]
    },
    {
     "name": "stderr",
     "output_type": "stream",
     "text": [
      "D:\\Anaconda\\lib\\site-packages\\sklearn\\metrics\\_classification.py:1221: UndefinedMetricWarning: Precision and F-score are ill-defined and being set to 0.0 in labels with no predicted samples. Use `zero_division` parameter to control this behavior.\n",
      "  _warn_prf(average, modifier, msg_start, len(result))\n"
     ]
    },
    {
     "name": "stdout",
     "output_type": "stream",
     "text": [
      "\n",
      " Random Forest Over\n",
      "\n",
      "\n",
      " Linear SVM Over\n",
      "\n"
     ]
    },
    {
     "name": "stderr",
     "output_type": "stream",
     "text": [
      "D:\\Anaconda\\lib\\site-packages\\sklearn\\metrics\\_classification.py:1221: UndefinedMetricWarning: Precision and F-score are ill-defined and being set to 0.0 in labels with no predicted samples. Use `zero_division` parameter to control this behavior.\n",
      "  _warn_prf(average, modifier, msg_start, len(result))\n"
     ]
    },
    {
     "name": "stdout",
     "output_type": "stream",
     "text": [
      "\n",
      " SVM Non-Linear Over\n",
      "\n"
     ]
    },
    {
     "name": "stderr",
     "output_type": "stream",
     "text": [
      "D:\\Anaconda\\lib\\site-packages\\sklearn\\metrics\\_classification.py:1221: UndefinedMetricWarning: Precision and F-score are ill-defined and being set to 0.0 in labels with no predicted samples. Use `zero_division` parameter to control this behavior.\n",
      "  _warn_prf(average, modifier, msg_start, len(result))\n",
      "D:\\Anaconda\\lib\\site-packages\\sklearn\\linear_model\\_sag.py:330: ConvergenceWarning: The max_iter was reached which means the coef_ did not converge\n",
      "  \"the coef_ did not converge\", ConvergenceWarning)\n"
     ]
    },
    {
     "name": "stdout",
     "output_type": "stream",
     "text": [
      "\n",
      " Logistic Regression Over\n",
      "\n",
      "\n",
      " Decision Tree Over\n",
      "\n",
      "\n",
      " Random Forest Over\n",
      "\n",
      "\n",
      " Linear SVM Over\n",
      "\n"
     ]
    },
    {
     "name": "stderr",
     "output_type": "stream",
     "text": [
      "D:\\Anaconda\\lib\\site-packages\\sklearn\\metrics\\_classification.py:1221: UndefinedMetricWarning: Precision and F-score are ill-defined and being set to 0.0 in labels with no predicted samples. Use `zero_division` parameter to control this behavior.\n",
      "  _warn_prf(average, modifier, msg_start, len(result))\n"
     ]
    },
    {
     "name": "stdout",
     "output_type": "stream",
     "text": [
      "\n",
      " SVM Non-Linear Over\n",
      "\n"
     ]
    },
    {
     "name": "stderr",
     "output_type": "stream",
     "text": [
      "D:\\Anaconda\\lib\\site-packages\\sklearn\\metrics\\_classification.py:1221: UndefinedMetricWarning: Precision and F-score are ill-defined and being set to 0.0 in labels with no predicted samples. Use `zero_division` parameter to control this behavior.\n",
      "  _warn_prf(average, modifier, msg_start, len(result))\n"
     ]
    },
    {
     "name": "stdout",
     "output_type": "stream",
     "text": [
      "\n",
      " Logistic Regression Over\n",
      "\n"
     ]
    },
    {
     "name": "stderr",
     "output_type": "stream",
     "text": [
      "D:\\Anaconda\\lib\\site-packages\\sklearn\\metrics\\_classification.py:1221: UndefinedMetricWarning: Precision and F-score are ill-defined and being set to 0.0 in labels with no predicted samples. Use `zero_division` parameter to control this behavior.\n",
      "  _warn_prf(average, modifier, msg_start, len(result))\n"
     ]
    },
    {
     "name": "stdout",
     "output_type": "stream",
     "text": [
      "\n",
      " Decision Tree Over\n",
      "\n",
      "\n",
      " Random Forest Over\n",
      "\n",
      "\n",
      " Linear SVM Over\n",
      "\n"
     ]
    },
    {
     "name": "stderr",
     "output_type": "stream",
     "text": [
      "D:\\Anaconda\\lib\\site-packages\\sklearn\\metrics\\_classification.py:1221: UndefinedMetricWarning: Precision and F-score are ill-defined and being set to 0.0 in labels with no predicted samples. Use `zero_division` parameter to control this behavior.\n",
      "  _warn_prf(average, modifier, msg_start, len(result))\n"
     ]
    },
    {
     "name": "stdout",
     "output_type": "stream",
     "text": [
      "\n",
      " SVM Non-Linear Over\n",
      "\n"
     ]
    },
    {
     "name": "stderr",
     "output_type": "stream",
     "text": [
      "D:\\Anaconda\\lib\\site-packages\\sklearn\\metrics\\_classification.py:1221: UndefinedMetricWarning: Precision and F-score are ill-defined and being set to 0.0 in labels with no predicted samples. Use `zero_division` parameter to control this behavior.\n",
      "  _warn_prf(average, modifier, msg_start, len(result))\n",
      "D:\\Anaconda\\lib\\site-packages\\sklearn\\linear_model\\_sag.py:330: ConvergenceWarning: The max_iter was reached which means the coef_ did not converge\n",
      "  \"the coef_ did not converge\", ConvergenceWarning)\n"
     ]
    },
    {
     "name": "stdout",
     "output_type": "stream",
     "text": [
      "\n",
      " Logistic Regression Over\n",
      "\n",
      "\n",
      " Decision Tree Over\n",
      "\n"
     ]
    },
    {
     "name": "stderr",
     "output_type": "stream",
     "text": [
      "D:\\Anaconda\\lib\\site-packages\\sklearn\\metrics\\_classification.py:1221: UndefinedMetricWarning: Precision and F-score are ill-defined and being set to 0.0 in labels with no predicted samples. Use `zero_division` parameter to control this behavior.\n",
      "  _warn_prf(average, modifier, msg_start, len(result))\n"
     ]
    },
    {
     "name": "stdout",
     "output_type": "stream",
     "text": [
      "\n",
      " Random Forest Over\n",
      "\n",
      "\n",
      " Linear SVM Over\n",
      "\n"
     ]
    },
    {
     "name": "stderr",
     "output_type": "stream",
     "text": [
      "D:\\Anaconda\\lib\\site-packages\\sklearn\\metrics\\_classification.py:1221: UndefinedMetricWarning: Precision is ill-defined and being set to 0.0 due to no predicted samples. Use `zero_division` parameter to control this behavior.\n",
      "  _warn_prf(average, modifier, msg_start, len(result))\n",
      "D:\\Anaconda\\lib\\site-packages\\sklearn\\metrics\\_classification.py:1221: UndefinedMetricWarning: Precision and F-score are ill-defined and being set to 0.0 in labels with no predicted samples. Use `zero_division` parameter to control this behavior.\n",
      "  _warn_prf(average, modifier, msg_start, len(result))\n"
     ]
    },
    {
     "name": "stdout",
     "output_type": "stream",
     "text": [
      "\n",
      " SVM Non-Linear Over\n",
      "\n"
     ]
    },
    {
     "name": "stderr",
     "output_type": "stream",
     "text": [
      "D:\\Anaconda\\lib\\site-packages\\sklearn\\metrics\\_classification.py:1221: UndefinedMetricWarning: Precision and F-score are ill-defined and being set to 0.0 in labels with no predicted samples. Use `zero_division` parameter to control this behavior.\n",
      "  _warn_prf(average, modifier, msg_start, len(result))\n"
     ]
    },
    {
     "name": "stdout",
     "output_type": "stream",
     "text": [
      "\n",
      " Logistic Regression Over\n",
      "\n"
     ]
    },
    {
     "name": "stderr",
     "output_type": "stream",
     "text": [
      "D:\\Anaconda\\lib\\site-packages\\sklearn\\metrics\\_classification.py:1221: UndefinedMetricWarning: Precision and F-score are ill-defined and being set to 0.0 in labels with no predicted samples. Use `zero_division` parameter to control this behavior.\n",
      "  _warn_prf(average, modifier, msg_start, len(result))\n"
     ]
    },
    {
     "name": "stdout",
     "output_type": "stream",
     "text": [
      "\n",
      " Decision Tree Over\n",
      "\n",
      "\n",
      " Random Forest Over\n",
      "\n",
      "\n",
      " Linear SVM Over\n",
      "\n"
     ]
    },
    {
     "name": "stderr",
     "output_type": "stream",
     "text": [
      "D:\\Anaconda\\lib\\site-packages\\sklearn\\metrics\\_classification.py:1221: UndefinedMetricWarning: Precision and F-score are ill-defined and being set to 0.0 in labels with no predicted samples. Use `zero_division` parameter to control this behavior.\n",
      "  _warn_prf(average, modifier, msg_start, len(result))\n"
     ]
    },
    {
     "name": "stdout",
     "output_type": "stream",
     "text": [
      "\n",
      " SVM Non-Linear Over\n",
      "\n"
     ]
    },
    {
     "name": "stderr",
     "output_type": "stream",
     "text": [
      "D:\\Anaconda\\lib\\site-packages\\sklearn\\metrics\\_classification.py:1221: UndefinedMetricWarning: Precision and F-score are ill-defined and being set to 0.0 in labels with no predicted samples. Use `zero_division` parameter to control this behavior.\n",
      "  _warn_prf(average, modifier, msg_start, len(result))\n",
      "D:\\Anaconda\\lib\\site-packages\\sklearn\\linear_model\\_logistic.py:764: ConvergenceWarning: lbfgs failed to converge (status=1):\n",
      "STOP: TOTAL NO. of ITERATIONS REACHED LIMIT.\n",
      "\n",
      "Increase the number of iterations (max_iter) or scale the data as shown in:\n",
      "    https://scikit-learn.org/stable/modules/preprocessing.html\n",
      "Please also refer to the documentation for alternative solver options:\n",
      "    https://scikit-learn.org/stable/modules/linear_model.html#logistic-regression\n",
      "  extra_warning_msg=_LOGISTIC_SOLVER_CONVERGENCE_MSG)\n"
     ]
    },
    {
     "name": "stdout",
     "output_type": "stream",
     "text": [
      "\n",
      " Logistic Regression Over\n",
      "\n",
      "\n",
      " Decision Tree Over\n",
      "\n",
      "\n",
      " Random Forest Over\n",
      "\n",
      "\n",
      " Linear SVM Over\n",
      "\n"
     ]
    },
    {
     "name": "stderr",
     "output_type": "stream",
     "text": [
      "D:\\Anaconda\\lib\\site-packages\\sklearn\\metrics\\_classification.py:1221: UndefinedMetricWarning: Precision and F-score are ill-defined and being set to 0.0 in labels with no predicted samples. Use `zero_division` parameter to control this behavior.\n",
      "  _warn_prf(average, modifier, msg_start, len(result))\n"
     ]
    },
    {
     "name": "stdout",
     "output_type": "stream",
     "text": [
      "\n",
      " SVM Non-Linear Over\n",
      "\n"
     ]
    },
    {
     "name": "stderr",
     "output_type": "stream",
     "text": [
      "D:\\Anaconda\\lib\\site-packages\\sklearn\\metrics\\_classification.py:1221: UndefinedMetricWarning: Precision and F-score are ill-defined and being set to 0.0 in labels with no predicted samples. Use `zero_division` parameter to control this behavior.\n",
      "  _warn_prf(average, modifier, msg_start, len(result))\n"
     ]
    },
    {
     "name": "stdout",
     "output_type": "stream",
     "text": [
      "\n",
      " Logistic Regression Over\n",
      "\n"
     ]
    },
    {
     "name": "stderr",
     "output_type": "stream",
     "text": [
      "D:\\Anaconda\\lib\\site-packages\\sklearn\\metrics\\_classification.py:1221: UndefinedMetricWarning: Precision and F-score are ill-defined and being set to 0.0 in labels with no predicted samples. Use `zero_division` parameter to control this behavior.\n",
      "  _warn_prf(average, modifier, msg_start, len(result))\n"
     ]
    },
    {
     "name": "stdout",
     "output_type": "stream",
     "text": [
      "\n",
      " Decision Tree Over\n",
      "\n",
      "\n",
      " Random Forest Over\n",
      "\n",
      "\n",
      " Linear SVM Over\n",
      "\n"
     ]
    },
    {
     "name": "stderr",
     "output_type": "stream",
     "text": [
      "D:\\Anaconda\\lib\\site-packages\\sklearn\\metrics\\_classification.py:1221: UndefinedMetricWarning: Precision and F-score are ill-defined and being set to 0.0 in labels with no predicted samples. Use `zero_division` parameter to control this behavior.\n",
      "  _warn_prf(average, modifier, msg_start, len(result))\n"
     ]
    },
    {
     "name": "stdout",
     "output_type": "stream",
     "text": [
      "\n",
      " SVM Non-Linear Over\n",
      "\n"
     ]
    },
    {
     "name": "stderr",
     "output_type": "stream",
     "text": [
      "D:\\Anaconda\\lib\\site-packages\\sklearn\\metrics\\_classification.py:1221: UndefinedMetricWarning: Precision and F-score are ill-defined and being set to 0.0 in labels with no predicted samples. Use `zero_division` parameter to control this behavior.\n",
      "  _warn_prf(average, modifier, msg_start, len(result))\n",
      "D:\\Anaconda\\lib\\site-packages\\sklearn\\linear_model\\_sag.py:330: ConvergenceWarning: The max_iter was reached which means the coef_ did not converge\n",
      "  \"the coef_ did not converge\", ConvergenceWarning)\n"
     ]
    },
    {
     "name": "stdout",
     "output_type": "stream",
     "text": [
      "\n",
      " Logistic Regression Over\n",
      "\n",
      "\n",
      " Decision Tree Over\n",
      "\n",
      "\n",
      " Random Forest Over\n",
      "\n",
      "\n",
      " Linear SVM Over\n",
      "\n"
     ]
    },
    {
     "name": "stderr",
     "output_type": "stream",
     "text": [
      "D:\\Anaconda\\lib\\site-packages\\sklearn\\metrics\\_classification.py:1221: UndefinedMetricWarning: Precision is ill-defined and being set to 0.0 due to no predicted samples. Use `zero_division` parameter to control this behavior.\n",
      "  _warn_prf(average, modifier, msg_start, len(result))\n",
      "D:\\Anaconda\\lib\\site-packages\\sklearn\\metrics\\_classification.py:1221: UndefinedMetricWarning: Precision and F-score are ill-defined and being set to 0.0 in labels with no predicted samples. Use `zero_division` parameter to control this behavior.\n",
      "  _warn_prf(average, modifier, msg_start, len(result))\n"
     ]
    },
    {
     "name": "stdout",
     "output_type": "stream",
     "text": [
      "\n",
      " SVM Non-Linear Over\n",
      "\n",
      "\n",
      " Logistic Regression Over\n",
      "\n"
     ]
    },
    {
     "name": "stderr",
     "output_type": "stream",
     "text": [
      "D:\\Anaconda\\lib\\site-packages\\sklearn\\metrics\\_classification.py:1221: UndefinedMetricWarning: Precision and F-score are ill-defined and being set to 0.0 in labels with no predicted samples. Use `zero_division` parameter to control this behavior.\n",
      "  _warn_prf(average, modifier, msg_start, len(result))\n"
     ]
    },
    {
     "name": "stdout",
     "output_type": "stream",
     "text": [
      "\n",
      " Decision Tree Over\n",
      "\n",
      "\n",
      " Random Forest Over\n",
      "\n",
      "\n",
      " Linear SVM Over\n",
      "\n"
     ]
    },
    {
     "name": "stderr",
     "output_type": "stream",
     "text": [
      "D:\\Anaconda\\lib\\site-packages\\sklearn\\metrics\\_classification.py:1221: UndefinedMetricWarning: Precision and F-score are ill-defined and being set to 0.0 in labels with no predicted samples. Use `zero_division` parameter to control this behavior.\n",
      "  _warn_prf(average, modifier, msg_start, len(result))\n"
     ]
    },
    {
     "name": "stdout",
     "output_type": "stream",
     "text": [
      "\n",
      " SVM Non-Linear Over\n",
      "\n"
     ]
    },
    {
     "name": "stderr",
     "output_type": "stream",
     "text": [
      "D:\\Anaconda\\lib\\site-packages\\sklearn\\linear_model\\_logistic.py:764: ConvergenceWarning: lbfgs failed to converge (status=1):\n",
      "STOP: TOTAL NO. of ITERATIONS REACHED LIMIT.\n",
      "\n",
      "Increase the number of iterations (max_iter) or scale the data as shown in:\n",
      "    https://scikit-learn.org/stable/modules/preprocessing.html\n",
      "Please also refer to the documentation for alternative solver options:\n",
      "    https://scikit-learn.org/stable/modules/linear_model.html#logistic-regression\n",
      "  extra_warning_msg=_LOGISTIC_SOLVER_CONVERGENCE_MSG)\n"
     ]
    },
    {
     "name": "stdout",
     "output_type": "stream",
     "text": [
      "\n",
      " Logistic Regression Over\n",
      "\n",
      "\n",
      " Decision Tree Over\n",
      "\n",
      "\n",
      " Random Forest Over\n",
      "\n",
      "\n",
      " Linear SVM Over\n",
      "\n"
     ]
    },
    {
     "name": "stderr",
     "output_type": "stream",
     "text": [
      "D:\\Anaconda\\lib\\site-packages\\sklearn\\metrics\\_classification.py:1221: UndefinedMetricWarning: Precision and F-score are ill-defined and being set to 0.0 in labels with no predicted samples. Use `zero_division` parameter to control this behavior.\n",
      "  _warn_prf(average, modifier, msg_start, len(result))\n"
     ]
    },
    {
     "name": "stdout",
     "output_type": "stream",
     "text": [
      "\n",
      " SVM Non-Linear Over\n",
      "\n"
     ]
    },
    {
     "name": "stderr",
     "output_type": "stream",
     "text": [
      "D:\\Anaconda\\lib\\site-packages\\sklearn\\metrics\\_classification.py:1221: UndefinedMetricWarning: Precision and F-score are ill-defined and being set to 0.0 in labels with no predicted samples. Use `zero_division` parameter to control this behavior.\n",
      "  _warn_prf(average, modifier, msg_start, len(result))\n"
     ]
    },
    {
     "name": "stdout",
     "output_type": "stream",
     "text": [
      "\n",
      " Logistic Regression Over\n",
      "\n"
     ]
    },
    {
     "name": "stderr",
     "output_type": "stream",
     "text": [
      "D:\\Anaconda\\lib\\site-packages\\sklearn\\metrics\\_classification.py:1221: UndefinedMetricWarning: Precision and F-score are ill-defined and being set to 0.0 in labels with no predicted samples. Use `zero_division` parameter to control this behavior.\n",
      "  _warn_prf(average, modifier, msg_start, len(result))\n"
     ]
    },
    {
     "name": "stdout",
     "output_type": "stream",
     "text": [
      "\n",
      " Decision Tree Over\n",
      "\n"
     ]
    },
    {
     "name": "stderr",
     "output_type": "stream",
     "text": [
      "D:\\Anaconda\\lib\\site-packages\\sklearn\\metrics\\_classification.py:1221: UndefinedMetricWarning: Precision and F-score are ill-defined and being set to 0.0 in labels with no predicted samples. Use `zero_division` parameter to control this behavior.\n",
      "  _warn_prf(average, modifier, msg_start, len(result))\n"
     ]
    },
    {
     "name": "stdout",
     "output_type": "stream",
     "text": [
      "\n",
      " Random Forest Over\n",
      "\n",
      "\n",
      " Linear SVM Over\n",
      "\n"
     ]
    },
    {
     "name": "stderr",
     "output_type": "stream",
     "text": [
      "D:\\Anaconda\\lib\\site-packages\\sklearn\\metrics\\_classification.py:1221: UndefinedMetricWarning: Precision and F-score are ill-defined and being set to 0.0 in labels with no predicted samples. Use `zero_division` parameter to control this behavior.\n",
      "  _warn_prf(average, modifier, msg_start, len(result))\n"
     ]
    },
    {
     "name": "stdout",
     "output_type": "stream",
     "text": [
      "\n",
      " SVM Non-Linear Over\n",
      "\n"
     ]
    },
    {
     "name": "stderr",
     "output_type": "stream",
     "text": [
      "D:\\Anaconda\\lib\\site-packages\\sklearn\\metrics\\_classification.py:1221: UndefinedMetricWarning: Precision and F-score are ill-defined and being set to 0.0 in labels with no predicted samples. Use `zero_division` parameter to control this behavior.\n",
      "  _warn_prf(average, modifier, msg_start, len(result))\n",
      "D:\\Anaconda\\lib\\site-packages\\sklearn\\linear_model\\_sag.py:330: ConvergenceWarning: The max_iter was reached which means the coef_ did not converge\n",
      "  \"the coef_ did not converge\", ConvergenceWarning)\n"
     ]
    },
    {
     "name": "stdout",
     "output_type": "stream",
     "text": [
      "\n",
      " Logistic Regression Over\n",
      "\n",
      "\n",
      " Decision Tree Over\n",
      "\n"
     ]
    },
    {
     "name": "stderr",
     "output_type": "stream",
     "text": [
      "D:\\Anaconda\\lib\\site-packages\\sklearn\\metrics\\_classification.py:1221: UndefinedMetricWarning: Precision and F-score are ill-defined and being set to 0.0 in labels with no predicted samples. Use `zero_division` parameter to control this behavior.\n",
      "  _warn_prf(average, modifier, msg_start, len(result))\n"
     ]
    },
    {
     "name": "stdout",
     "output_type": "stream",
     "text": [
      "\n",
      " Random Forest Over\n",
      "\n",
      "\n",
      " Linear SVM Over\n",
      "\n"
     ]
    },
    {
     "name": "stderr",
     "output_type": "stream",
     "text": [
      "D:\\Anaconda\\lib\\site-packages\\sklearn\\metrics\\_classification.py:1221: UndefinedMetricWarning: Precision and F-score are ill-defined and being set to 0.0 in labels with no predicted samples. Use `zero_division` parameter to control this behavior.\n",
      "  _warn_prf(average, modifier, msg_start, len(result))\n"
     ]
    },
    {
     "name": "stdout",
     "output_type": "stream",
     "text": [
      "\n",
      " SVM Non-Linear Over\n",
      "\n",
      "\n",
      " Logistic Regression Over\n",
      "\n"
     ]
    },
    {
     "name": "stderr",
     "output_type": "stream",
     "text": [
      "D:\\Anaconda\\lib\\site-packages\\sklearn\\metrics\\_classification.py:1221: UndefinedMetricWarning: Precision and F-score are ill-defined and being set to 0.0 in labels with no predicted samples. Use `zero_division` parameter to control this behavior.\n",
      "  _warn_prf(average, modifier, msg_start, len(result))\n"
     ]
    },
    {
     "name": "stdout",
     "output_type": "stream",
     "text": [
      "\n",
      " Decision Tree Over\n",
      "\n",
      "\n",
      " Random Forest Over\n",
      "\n",
      "\n",
      " Linear SVM Over\n",
      "\n"
     ]
    },
    {
     "name": "stderr",
     "output_type": "stream",
     "text": [
      "D:\\Anaconda\\lib\\site-packages\\sklearn\\metrics\\_classification.py:1221: UndefinedMetricWarning: Precision and F-score are ill-defined and being set to 0.0 in labels with no predicted samples. Use `zero_division` parameter to control this behavior.\n",
      "  _warn_prf(average, modifier, msg_start, len(result))\n"
     ]
    },
    {
     "name": "stdout",
     "output_type": "stream",
     "text": [
      "\n",
      " SVM Non-Linear Over\n",
      "\n"
     ]
    },
    {
     "name": "stderr",
     "output_type": "stream",
     "text": [
      "D:\\Anaconda\\lib\\site-packages\\sklearn\\metrics\\_classification.py:1221: UndefinedMetricWarning: Precision and F-score are ill-defined and being set to 0.0 in labels with no predicted samples. Use `zero_division` parameter to control this behavior.\n",
      "  _warn_prf(average, modifier, msg_start, len(result))\n",
      "D:\\Anaconda\\lib\\site-packages\\scipy\\optimize\\linesearch.py:314: LineSearchWarning: The line search algorithm did not converge\n",
      "  warn('The line search algorithm did not converge', LineSearchWarning)\n",
      "D:\\Anaconda\\lib\\site-packages\\sklearn\\utils\\optimize.py:204: UserWarning: Line Search failed\n",
      "  warnings.warn('Line Search failed')\n"
     ]
    },
    {
     "name": "stdout",
     "output_type": "stream",
     "text": [
      "\n",
      " Logistic Regression Over\n",
      "\n",
      "\n",
      " Decision Tree Over\n",
      "\n",
      "\n",
      " Random Forest Over\n",
      "\n",
      "\n",
      " Linear SVM Over\n",
      "\n"
     ]
    },
    {
     "name": "stderr",
     "output_type": "stream",
     "text": [
      "D:\\Anaconda\\lib\\site-packages\\sklearn\\metrics\\_classification.py:1221: UndefinedMetricWarning: Precision is ill-defined and being set to 0.0 due to no predicted samples. Use `zero_division` parameter to control this behavior.\n",
      "  _warn_prf(average, modifier, msg_start, len(result))\n",
      "D:\\Anaconda\\lib\\site-packages\\sklearn\\metrics\\_classification.py:1221: UndefinedMetricWarning: Precision and F-score are ill-defined and being set to 0.0 in labels with no predicted samples. Use `zero_division` parameter to control this behavior.\n",
      "  _warn_prf(average, modifier, msg_start, len(result))\n"
     ]
    },
    {
     "name": "stdout",
     "output_type": "stream",
     "text": [
      "\n",
      " SVM Non-Linear Over\n",
      "\n"
     ]
    },
    {
     "name": "stderr",
     "output_type": "stream",
     "text": [
      "D:\\Anaconda\\lib\\site-packages\\sklearn\\metrics\\_classification.py:1221: UndefinedMetricWarning: Precision and F-score are ill-defined and being set to 0.0 in labels with no predicted samples. Use `zero_division` parameter to control this behavior.\n",
      "  _warn_prf(average, modifier, msg_start, len(result))\n"
     ]
    },
    {
     "name": "stdout",
     "output_type": "stream",
     "text": [
      "\n",
      " Logistic Regression Over\n",
      "\n"
     ]
    },
    {
     "name": "stderr",
     "output_type": "stream",
     "text": [
      "D:\\Anaconda\\lib\\site-packages\\sklearn\\metrics\\_classification.py:1221: UndefinedMetricWarning: Precision and F-score are ill-defined and being set to 0.0 in labels with no predicted samples. Use `zero_division` parameter to control this behavior.\n",
      "  _warn_prf(average, modifier, msg_start, len(result))\n"
     ]
    },
    {
     "name": "stdout",
     "output_type": "stream",
     "text": [
      "\n",
      " Decision Tree Over\n",
      "\n"
     ]
    },
    {
     "name": "stderr",
     "output_type": "stream",
     "text": [
      "D:\\Anaconda\\lib\\site-packages\\sklearn\\metrics\\_classification.py:1221: UndefinedMetricWarning: Precision and F-score are ill-defined and being set to 0.0 in labels with no predicted samples. Use `zero_division` parameter to control this behavior.\n",
      "  _warn_prf(average, modifier, msg_start, len(result))\n"
     ]
    },
    {
     "name": "stdout",
     "output_type": "stream",
     "text": [
      "\n",
      " Random Forest Over\n",
      "\n",
      "\n",
      " Linear SVM Over\n",
      "\n"
     ]
    },
    {
     "name": "stderr",
     "output_type": "stream",
     "text": [
      "D:\\Anaconda\\lib\\site-packages\\sklearn\\metrics\\_classification.py:1221: UndefinedMetricWarning: Precision and F-score are ill-defined and being set to 0.0 in labels with no predicted samples. Use `zero_division` parameter to control this behavior.\n",
      "  _warn_prf(average, modifier, msg_start, len(result))\n"
     ]
    },
    {
     "name": "stdout",
     "output_type": "stream",
     "text": [
      "\n",
      " SVM Non-Linear Over\n",
      "\n"
     ]
    },
    {
     "name": "stderr",
     "output_type": "stream",
     "text": [
      "D:\\Anaconda\\lib\\site-packages\\sklearn\\metrics\\_classification.py:1221: UndefinedMetricWarning: Precision and F-score are ill-defined and being set to 0.0 in labels with no predicted samples. Use `zero_division` parameter to control this behavior.\n",
      "  _warn_prf(average, modifier, msg_start, len(result))\n",
      "D:\\Anaconda\\lib\\site-packages\\sklearn\\linear_model\\_sag.py:330: ConvergenceWarning: The max_iter was reached which means the coef_ did not converge\n",
      "  \"the coef_ did not converge\", ConvergenceWarning)\n"
     ]
    },
    {
     "name": "stdout",
     "output_type": "stream",
     "text": [
      "\n",
      " Logistic Regression Over\n",
      "\n",
      "\n",
      " Decision Tree Over\n",
      "\n",
      "\n",
      " Random Forest Over\n",
      "\n",
      "\n",
      " Linear SVM Over\n",
      "\n"
     ]
    },
    {
     "name": "stderr",
     "output_type": "stream",
     "text": [
      "D:\\Anaconda\\lib\\site-packages\\sklearn\\metrics\\_classification.py:1221: UndefinedMetricWarning: Precision and F-score are ill-defined and being set to 0.0 in labels with no predicted samples. Use `zero_division` parameter to control this behavior.\n",
      "  _warn_prf(average, modifier, msg_start, len(result))\n"
     ]
    },
    {
     "name": "stdout",
     "output_type": "stream",
     "text": [
      "\n",
      " SVM Non-Linear Over\n",
      "\n"
     ]
    },
    {
     "name": "stderr",
     "output_type": "stream",
     "text": [
      "D:\\Anaconda\\lib\\site-packages\\sklearn\\metrics\\_classification.py:1221: UndefinedMetricWarning: Precision and F-score are ill-defined and being set to 0.0 in labels with no predicted samples. Use `zero_division` parameter to control this behavior.\n",
      "  _warn_prf(average, modifier, msg_start, len(result))\n"
     ]
    },
    {
     "name": "stdout",
     "output_type": "stream",
     "text": [
      "\n",
      " Logistic Regression Over\n",
      "\n"
     ]
    },
    {
     "name": "stderr",
     "output_type": "stream",
     "text": [
      "D:\\Anaconda\\lib\\site-packages\\sklearn\\metrics\\_classification.py:1221: UndefinedMetricWarning: Precision and F-score are ill-defined and being set to 0.0 in labels with no predicted samples. Use `zero_division` parameter to control this behavior.\n",
      "  _warn_prf(average, modifier, msg_start, len(result))\n"
     ]
    },
    {
     "name": "stdout",
     "output_type": "stream",
     "text": [
      "\n",
      " Decision Tree Over\n",
      "\n"
     ]
    },
    {
     "name": "stderr",
     "output_type": "stream",
     "text": [
      "D:\\Anaconda\\lib\\site-packages\\sklearn\\metrics\\_classification.py:1221: UndefinedMetricWarning: Precision and F-score are ill-defined and being set to 0.0 in labels with no predicted samples. Use `zero_division` parameter to control this behavior.\n",
      "  _warn_prf(average, modifier, msg_start, len(result))\n"
     ]
    },
    {
     "name": "stdout",
     "output_type": "stream",
     "text": [
      "\n",
      " Random Forest Over\n",
      "\n",
      "\n",
      " Linear SVM Over\n",
      "\n"
     ]
    },
    {
     "name": "stderr",
     "output_type": "stream",
     "text": [
      "D:\\Anaconda\\lib\\site-packages\\sklearn\\metrics\\_classification.py:1221: UndefinedMetricWarning: Precision and F-score are ill-defined and being set to 0.0 in labels with no predicted samples. Use `zero_division` parameter to control this behavior.\n",
      "  _warn_prf(average, modifier, msg_start, len(result))\n"
     ]
    },
    {
     "name": "stdout",
     "output_type": "stream",
     "text": [
      "\n",
      " SVM Non-Linear Over\n",
      "\n"
     ]
    },
    {
     "name": "stderr",
     "output_type": "stream",
     "text": [
      "D:\\Anaconda\\lib\\site-packages\\sklearn\\linear_model\\_sag.py:330: ConvergenceWarning: The max_iter was reached which means the coef_ did not converge\n",
      "  \"the coef_ did not converge\", ConvergenceWarning)\n"
     ]
    },
    {
     "name": "stdout",
     "output_type": "stream",
     "text": [
      "\n",
      " Logistic Regression Over\n",
      "\n",
      "\n",
      " Decision Tree Over\n",
      "\n"
     ]
    },
    {
     "name": "stderr",
     "output_type": "stream",
     "text": [
      "D:\\Anaconda\\lib\\site-packages\\sklearn\\metrics\\_classification.py:1221: UndefinedMetricWarning: Precision and F-score are ill-defined and being set to 0.0 in labels with no predicted samples. Use `zero_division` parameter to control this behavior.\n",
      "  _warn_prf(average, modifier, msg_start, len(result))\n"
     ]
    },
    {
     "name": "stdout",
     "output_type": "stream",
     "text": [
      "\n",
      " Random Forest Over\n",
      "\n",
      "\n",
      " Linear SVM Over\n",
      "\n"
     ]
    },
    {
     "name": "stderr",
     "output_type": "stream",
     "text": [
      "D:\\Anaconda\\lib\\site-packages\\sklearn\\metrics\\_classification.py:1221: UndefinedMetricWarning: Precision and F-score are ill-defined and being set to 0.0 in labels with no predicted samples. Use `zero_division` parameter to control this behavior.\n",
      "  _warn_prf(average, modifier, msg_start, len(result))\n"
     ]
    },
    {
     "name": "stdout",
     "output_type": "stream",
     "text": [
      "\n",
      " SVM Non-Linear Over\n",
      "\n"
     ]
    },
    {
     "name": "stderr",
     "output_type": "stream",
     "text": [
      "D:\\Anaconda\\lib\\site-packages\\sklearn\\metrics\\_classification.py:1221: UndefinedMetricWarning: Precision and F-score are ill-defined and being set to 0.0 in labels with no predicted samples. Use `zero_division` parameter to control this behavior.\n",
      "  _warn_prf(average, modifier, msg_start, len(result))\n"
     ]
    },
    {
     "name": "stdout",
     "output_type": "stream",
     "text": [
      "\n",
      " Logistic Regression Over\n",
      "\n"
     ]
    },
    {
     "name": "stderr",
     "output_type": "stream",
     "text": [
      "D:\\Anaconda\\lib\\site-packages\\sklearn\\metrics\\_classification.py:1221: UndefinedMetricWarning: Precision and F-score are ill-defined and being set to 0.0 in labels with no predicted samples. Use `zero_division` parameter to control this behavior.\n",
      "  _warn_prf(average, modifier, msg_start, len(result))\n"
     ]
    },
    {
     "name": "stdout",
     "output_type": "stream",
     "text": [
      "\n",
      " Decision Tree Over\n",
      "\n"
     ]
    },
    {
     "name": "stderr",
     "output_type": "stream",
     "text": [
      "D:\\Anaconda\\lib\\site-packages\\sklearn\\metrics\\_classification.py:1221: UndefinedMetricWarning: Precision and F-score are ill-defined and being set to 0.0 in labels with no predicted samples. Use `zero_division` parameter to control this behavior.\n",
      "  _warn_prf(average, modifier, msg_start, len(result))\n"
     ]
    },
    {
     "name": "stdout",
     "output_type": "stream",
     "text": [
      "\n",
      " Random Forest Over\n",
      "\n",
      "\n",
      " Linear SVM Over\n",
      "\n"
     ]
    },
    {
     "name": "stderr",
     "output_type": "stream",
     "text": [
      "D:\\Anaconda\\lib\\site-packages\\sklearn\\metrics\\_classification.py:1221: UndefinedMetricWarning: Precision and F-score are ill-defined and being set to 0.0 in labels with no predicted samples. Use `zero_division` parameter to control this behavior.\n",
      "  _warn_prf(average, modifier, msg_start, len(result))\n"
     ]
    },
    {
     "name": "stdout",
     "output_type": "stream",
     "text": [
      "\n",
      " SVM Non-Linear Over\n",
      "\n"
     ]
    },
    {
     "name": "stderr",
     "output_type": "stream",
     "text": [
      "D:\\Anaconda\\lib\\site-packages\\sklearn\\metrics\\_classification.py:1221: UndefinedMetricWarning: Precision and F-score are ill-defined and being set to 0.0 in labels with no predicted samples. Use `zero_division` parameter to control this behavior.\n",
      "  _warn_prf(average, modifier, msg_start, len(result))\n",
      "D:\\Anaconda\\lib\\site-packages\\sklearn\\linear_model\\_sag.py:330: ConvergenceWarning: The max_iter was reached which means the coef_ did not converge\n",
      "  \"the coef_ did not converge\", ConvergenceWarning)\n"
     ]
    },
    {
     "name": "stdout",
     "output_type": "stream",
     "text": [
      "\n",
      " Logistic Regression Over\n",
      "\n",
      "\n",
      " Decision Tree Over\n",
      "\n",
      "\n",
      " Random Forest Over\n",
      "\n",
      "\n",
      " Linear SVM Over\n",
      "\n"
     ]
    },
    {
     "name": "stderr",
     "output_type": "stream",
     "text": [
      "D:\\Anaconda\\lib\\site-packages\\sklearn\\metrics\\_classification.py:1221: UndefinedMetricWarning: Precision is ill-defined and being set to 0.0 due to no predicted samples. Use `zero_division` parameter to control this behavior.\n",
      "  _warn_prf(average, modifier, msg_start, len(result))\n",
      "D:\\Anaconda\\lib\\site-packages\\sklearn\\metrics\\_classification.py:1221: UndefinedMetricWarning: Precision and F-score are ill-defined and being set to 0.0 in labels with no predicted samples. Use `zero_division` parameter to control this behavior.\n",
      "  _warn_prf(average, modifier, msg_start, len(result))\n"
     ]
    },
    {
     "name": "stdout",
     "output_type": "stream",
     "text": [
      "\n",
      " SVM Non-Linear Over\n",
      "\n"
     ]
    },
    {
     "name": "stderr",
     "output_type": "stream",
     "text": [
      "D:\\Anaconda\\lib\\site-packages\\sklearn\\metrics\\_classification.py:1221: UndefinedMetricWarning: Precision and F-score are ill-defined and being set to 0.0 in labels with no predicted samples. Use `zero_division` parameter to control this behavior.\n",
      "  _warn_prf(average, modifier, msg_start, len(result))\n"
     ]
    },
    {
     "name": "stdout",
     "output_type": "stream",
     "text": [
      "\n",
      " Logistic Regression Over\n",
      "\n"
     ]
    },
    {
     "name": "stderr",
     "output_type": "stream",
     "text": [
      "D:\\Anaconda\\lib\\site-packages\\sklearn\\metrics\\_classification.py:1221: UndefinedMetricWarning: Precision and F-score are ill-defined and being set to 0.0 in labels with no predicted samples. Use `zero_division` parameter to control this behavior.\n",
      "  _warn_prf(average, modifier, msg_start, len(result))\n"
     ]
    },
    {
     "name": "stdout",
     "output_type": "stream",
     "text": [
      "\n",
      " Decision Tree Over\n",
      "\n"
     ]
    },
    {
     "name": "stderr",
     "output_type": "stream",
     "text": [
      "D:\\Anaconda\\lib\\site-packages\\sklearn\\metrics\\_classification.py:1221: UndefinedMetricWarning: Precision and F-score are ill-defined and being set to 0.0 in labels with no predicted samples. Use `zero_division` parameter to control this behavior.\n",
      "  _warn_prf(average, modifier, msg_start, len(result))\n"
     ]
    },
    {
     "name": "stdout",
     "output_type": "stream",
     "text": [
      "\n",
      " Random Forest Over\n",
      "\n",
      "\n",
      " Linear SVM Over\n",
      "\n"
     ]
    },
    {
     "name": "stderr",
     "output_type": "stream",
     "text": [
      "D:\\Anaconda\\lib\\site-packages\\sklearn\\metrics\\_classification.py:1221: UndefinedMetricWarning: Precision and F-score are ill-defined and being set to 0.0 in labels with no predicted samples. Use `zero_division` parameter to control this behavior.\n",
      "  _warn_prf(average, modifier, msg_start, len(result))\n"
     ]
    },
    {
     "name": "stdout",
     "output_type": "stream",
     "text": [
      "\n",
      " SVM Non-Linear Over\n",
      "\n"
     ]
    },
    {
     "name": "stderr",
     "output_type": "stream",
     "text": [
      "D:\\Anaconda\\lib\\site-packages\\sklearn\\metrics\\_classification.py:1221: UndefinedMetricWarning: Precision and F-score are ill-defined and being set to 0.0 in labels with no predicted samples. Use `zero_division` parameter to control this behavior.\n",
      "  _warn_prf(average, modifier, msg_start, len(result))\n",
      "D:\\Anaconda\\lib\\site-packages\\sklearn\\linear_model\\_sag.py:330: ConvergenceWarning: The max_iter was reached which means the coef_ did not converge\n",
      "  \"the coef_ did not converge\", ConvergenceWarning)\n"
     ]
    },
    {
     "name": "stdout",
     "output_type": "stream",
     "text": [
      "\n",
      " Logistic Regression Over\n",
      "\n",
      "\n",
      " Decision Tree Over\n",
      "\n"
     ]
    },
    {
     "name": "stderr",
     "output_type": "stream",
     "text": [
      "D:\\Anaconda\\lib\\site-packages\\sklearn\\metrics\\_classification.py:1221: UndefinedMetricWarning: Precision and F-score are ill-defined and being set to 0.0 in labels with no predicted samples. Use `zero_division` parameter to control this behavior.\n",
      "  _warn_prf(average, modifier, msg_start, len(result))\n"
     ]
    },
    {
     "name": "stdout",
     "output_type": "stream",
     "text": [
      "\n",
      " Random Forest Over\n",
      "\n",
      "\n",
      " Linear SVM Over\n",
      "\n"
     ]
    },
    {
     "name": "stderr",
     "output_type": "stream",
     "text": [
      "D:\\Anaconda\\lib\\site-packages\\sklearn\\metrics\\_classification.py:1221: UndefinedMetricWarning: Precision and F-score are ill-defined and being set to 0.0 in labels with no predicted samples. Use `zero_division` parameter to control this behavior.\n",
      "  _warn_prf(average, modifier, msg_start, len(result))\n"
     ]
    },
    {
     "name": "stdout",
     "output_type": "stream",
     "text": [
      "\n",
      " SVM Non-Linear Over\n",
      "\n"
     ]
    },
    {
     "name": "stderr",
     "output_type": "stream",
     "text": [
      "D:\\Anaconda\\lib\\site-packages\\sklearn\\metrics\\_classification.py:1221: UndefinedMetricWarning: Precision and F-score are ill-defined and being set to 0.0 in labels with no predicted samples. Use `zero_division` parameter to control this behavior.\n",
      "  _warn_prf(average, modifier, msg_start, len(result))\n"
     ]
    }
   ],
   "source": [
    "result = dict()\n",
    "feat = ['mean', 'sum']\n",
    "\n",
    "for index in range(len(preprocessing)):\n",
    "    X_train = train.Text.apply(preprocessing[index]).to_list()\n",
    "    X_test = test.Text.apply(preprocessing[index]).to_list()\n",
    "    \n",
    "    Word2Vec_models = get_Word2Vec_models(X_train, index+1)\n",
    "    \n",
    "    for W2V_model in Word2Vec_models: #have to check\n",
    "        features = []\n",
    "        features.append(get_WordEmbedding_features(X_train, W2V_model))\n",
    "        features.append(get_WordEmbedding_features(X_test, W2V_model))\n",
    "        \n",
    "        for feature_index in range(len(features)):\n",
    "            X_train_feature = features[0][feature_index]\n",
    "            X_test_feature = features[1][feature_index]\n",
    "\n",
    "            for algo in learning_algorithms:\n",
    "                name = str(algo).split()[1][4:] + 'pre_' + str(index) + '_' + feat[feature_index]\n",
    "                result[name] = {}\n",
    "                fitted_model = algo(X_train_feature, y_train)\n",
    "                try:\n",
    "                    result[name].update({'best_params_' : fitted_model.best_params_})\n",
    "                except:\n",
    "                    print('Best Params Not for - ', name)\n",
    "                result[name].update({'Train Score' : fitted_model.score(X_train_feature, y_train)})\n",
    "                result[name].update({'Test Score' : fitted_model.score(X_test_feature, y_test)})\n",
    "                result[name].update({'y_pred' : fitted_model.predict(X_test_feature)})\n",
    "                try:\n",
    "                    result[name].update({'y_predict_prob' : fitted_model.predict_proba(X_test_feature)[:,1]})\n",
    "                except:\n",
    "                    result[name].update({'y_predict_prob' : np.zeros(X_test_feature.shape)})\n",
    "                result[name].update({'Accuracy' : accuracy_score(y_test, result[name]['y_pred'])})\n",
    "                result[name].update({'Precision' : precision_score(y_test, result[name]['y_pred'])})\n",
    "                result[name].update({'Recall' : recall_score(y_test, result[name]['y_pred'])})\n",
    "                result[name].update({'roc_auc' : roc_auc_score(y_test, result[name]['y_pred'])})\n",
    "                result[name].update({'Report' : classification_report(y_test, result[name]['y_pred'])})"
   ]
  },
  {
   "cell_type": "code",
   "execution_count": 280,
   "metadata": {
    "ExecuteTime": {
     "end_time": "2020-08-16T06:18:25.134538Z",
     "start_time": "2020-08-16T06:18:21.991273Z"
    }
   },
   "outputs": [],
   "source": [
    "resultd_df = pd.DataFrame(result)\n",
    "resultd_df.to_excel('ML Results.xlsx')"
   ]
  },
  {
   "cell_type": "code",
   "execution_count": 282,
   "metadata": {
    "ExecuteTime": {
     "end_time": "2020-08-16T06:31:57.187441Z",
     "start_time": "2020-08-16T06:31:57.176244Z"
    },
    "collapsed": true
   },
   "outputs": [
    {
     "data": {
      "text/plain": [
       "[[array([[ 0.0710889 ,  0.05101766, -0.11172073, ...,  0.08689123,\n",
       "          -0.00728007,  0.06108397],\n",
       "         [ 0.07129619,  0.05271976, -0.11299867, ...,  0.08634379,\n",
       "          -0.00698603,  0.06252974],\n",
       "         [ 0.0708759 ,  0.0475807 , -0.10929758, ...,  0.08642882,\n",
       "          -0.00709747,  0.06152684],\n",
       "         ...,\n",
       "         [ 0.0722062 ,  0.04616151, -0.11043011, ...,  0.0870188 ,\n",
       "          -0.00856543,  0.06124606],\n",
       "         [ 0.07240389,  0.04501645, -0.10937918, ...,  0.0867654 ,\n",
       "          -0.00895415,  0.06008755],\n",
       "         [ 0.07020044,  0.04963039, -0.11039422, ...,  0.086511  ,\n",
       "          -0.00861241,  0.06015614]], dtype=float32),\n",
       "  array([[ 120.56677 ,   86.525955, -189.47836 , ...,  147.36752 ,\n",
       "           -12.347002,  103.598404],\n",
       "         [  83.202644,   61.523956, -131.86945 , ...,  100.7632  ,\n",
       "            -8.152701,   72.972206],\n",
       "         [ 106.38472 ,   71.41863 , -164.05566 , ...,  129.72966 ,\n",
       "           -10.653307,   92.35178 ],\n",
       "         ...,\n",
       "         [ 123.4726  ,   78.93618 , -188.83548 , ...,  148.80215 ,\n",
       "           -14.646879,  104.73076 ],\n",
       "         [ 151.32413 ,   94.08438 , -228.60248 , ...,  181.33969 ,\n",
       "           -18.71418 ,  125.58297 ],\n",
       "         [ 130.50262 ,   92.2629  , -205.22285 , ...,  160.82394 ,\n",
       "           -16.010468,  111.83026 ]], dtype=float32)],\n",
       " [array([[ 0.07313406,  0.04205165, -0.10813396, ...,  0.08786504,\n",
       "          -0.00958028,  0.06078311],\n",
       "         [ 0.07364623,  0.04459102, -0.10720176, ...,  0.0869239 ,\n",
       "          -0.00902028,  0.06203195],\n",
       "         [ 0.07044938,  0.04841934, -0.10904282, ...,  0.08601084,\n",
       "          -0.00876524,  0.06153049],\n",
       "         ...,\n",
       "         [ 0.0693328 ,  0.05060448, -0.11025932, ...,  0.08640026,\n",
       "          -0.00806811,  0.0621332 ],\n",
       "         [ 0.07263626,  0.04211093, -0.10537595, ...,  0.08612593,\n",
       "          -0.00954738,  0.06247015],\n",
       "         [ 0.07198624,  0.04448451, -0.10763912, ...,  0.08596397,\n",
       "          -0.00917805,  0.06192727]], dtype=float32),\n",
       "  array([[ 175.52174 ,  100.923965, -259.5215  , ...,  210.8761  ,\n",
       "           -22.992682,  145.87946 ],\n",
       "         [ 167.47151 ,  101.39997 , -243.7768  , ...,  197.66496 ,\n",
       "           -20.512121,  141.06065 ],\n",
       "         [ 144.06898 ,   99.017555, -222.99255 , ...,  175.89217 ,\n",
       "           -17.924915,  125.82986 ],\n",
       "         ...,\n",
       "         [ 138.6656  ,  101.20897 , -220.51863 , ...,  172.8005  ,\n",
       "           -16.136215,  124.266396],\n",
       "         [ 160.4535  ,   93.02305 , -232.77547 , ...,  190.25218 ,\n",
       "           -21.09015 ,  137.99655 ],\n",
       "         [ 175.93439 ,  108.72015 , -263.07    , ...,  210.09595 ,\n",
       "           -22.431162,  151.35025 ]], dtype=float32)],\n",
       " [array([[ 0.03155974, -0.09974921,  0.00089219, ...,  0.03508663,\n",
       "          -0.09088515, -0.00250351],\n",
       "         [ 0.03163322, -0.10263301,  0.00550039, ...,  0.03010019,\n",
       "          -0.09723379, -0.00613762],\n",
       "         [ 0.00790907, -0.10044727,  0.0090449 , ...,  0.04352269,\n",
       "          -0.08892713, -0.00765718],\n",
       "         ...,\n",
       "         [ 0.03012296, -0.08911832,  0.00974402, ...,  0.02743174,\n",
       "          -0.08978795, -0.0151193 ],\n",
       "         [ 0.04003208, -0.08358825,  0.00549203, ...,  0.02628558,\n",
       "          -0.08329773, -0.01447822],\n",
       "         [ 0.03862138, -0.08773835,  0.00661033, ...,  0.03265168,\n",
       "          -0.08788519, -0.0094697 ]], dtype=float32),\n",
       "  array([[  53.525314 , -169.17467  ,    1.513147 , ...,   59.50692  ,\n",
       "          -154.14122  ,   -4.2459517],\n",
       "         [  36.915962 , -119.77272  ,    6.4189606, ...,   35.126926 ,\n",
       "          -113.47183  ,   -7.162606 ],\n",
       "         [  11.871509 , -150.77136  ,   13.576393 , ...,   65.32755  ,\n",
       "          -133.47963  ,  -11.493423 ],\n",
       "         ...,\n",
       "         [  51.510258 , -152.39233  ,   16.66228  , ...,   46.90827  ,\n",
       "          -153.53738  ,  -25.854    ],\n",
       "         [  83.66705  , -174.69945  ,   11.478346 , ...,   54.936867 ,\n",
       "          -174.09225  ,  -30.259487 ],\n",
       "         [  71.79715  , -163.10559  ,   12.288602 , ...,   60.69947  ,\n",
       "          -163.37856  ,  -17.604164 ]], dtype=float32)],\n",
       " [array([[ 0.03798547, -0.09928451,  0.01589652, ...,  0.02277096,\n",
       "          -0.08411689, -0.01172133],\n",
       "         [ 0.02857145, -0.09611697,  0.01291488, ...,  0.02249472,\n",
       "          -0.08460749, -0.01582105],\n",
       "         [ 0.02915222, -0.09308951,  0.00288073, ...,  0.01913977,\n",
       "          -0.08746008, -0.00164788],\n",
       "         ...,\n",
       "         [ 0.02642614, -0.07780007,  0.00117611, ...,  0.02413406,\n",
       "          -0.08989625, -0.01541852],\n",
       "         [ 0.02549901, -0.0988427 ,  0.01376501, ...,  0.02171079,\n",
       "          -0.08620927, -0.01057877],\n",
       "         [ 0.0271108 , -0.0995237 ,  0.01590613, ...,  0.02971193,\n",
       "          -0.0905991 , -0.00978719]], dtype=float32),\n",
       "  array([[  91.165115 , -238.28282  ,   38.151657 , ...,   54.650303 ,\n",
       "          -201.88054  ,  -28.131187 ],\n",
       "         [  64.971466 , -218.56998  ,   29.368427 , ...,   51.153004 ,\n",
       "          -192.39743  ,  -35.977066 ],\n",
       "         [  59.616283 , -190.36804  ,    5.8910837, ...,   39.140827 ,\n",
       "          -178.85587  ,   -3.3699186],\n",
       "         ...,\n",
       "         [  52.852283 , -155.60013  ,    2.352226 , ...,   48.268127 ,\n",
       "          -179.7925   ,  -30.837046 ],\n",
       "         [  56.327312 , -218.3435   ,   30.406914 , ...,   47.959126 ,\n",
       "          -190.43626  ,  -23.368498 ],\n",
       "         [  66.2588   , -243.23592  ,   38.874577 , ...,   72.61595  ,\n",
       "          -221.4242   ,  -23.919891 ]], dtype=float32)]]"
      ]
     },
     "execution_count": 282,
     "metadata": {},
     "output_type": "execute_result"
    }
   ],
   "source": [
    "features"
   ]
  },
  {
   "cell_type": "markdown",
   "metadata": {},
   "source": [
    "### Traditional ML Models"
   ]
  },
  {
   "cell_type": "markdown",
   "metadata": {},
   "source": [
    "#### Logistic Regression"
   ]
  },
  {
   "cell_type": "code",
   "execution_count": 252,
   "metadata": {
    "ExecuteTime": {
     "end_time": "2020-08-16T01:30:04.414162Z",
     "start_time": "2020-08-16T01:30:04.376293Z"
    }
   },
   "outputs": [],
   "source": [
    "#'penalty' : ['l2', 'l1', 'elasticnet'],\n",
    "#'liblinear'\n",
    "\n",
    "def ffit_logistic_regression(X_train, y_train):\n",
    "\n",
    "    lr = LogisticRegression()\n",
    "\n",
    "    lr_param_grid = {'solver' : ['lbfgs', 'sag', 'newton-cg', 'saga'],\n",
    "                     'penalty' : ['l2'],\n",
    "                     'C' : [0.06, 0.07, 0.08, 0.09, 0.1, 1],\n",
    "                     'max_iter' : [500, 1000],\n",
    "                    }\n",
    "\n",
    "    lr_grid_search = GridSearchCV(estimator=lr, param_grid=lr_param_grid)\n",
    "\n",
    "    try:\n",
    "        lr_grid_search.fit(X_train, y_train)\n",
    "    except Exception as e:\n",
    "        print(e)\n",
    "\n",
    "    return lr_grid_search"
   ]
  },
  {
   "cell_type": "code",
   "execution_count": 253,
   "metadata": {
    "ExecuteTime": {
     "end_time": "2020-08-16T01:30:11.780012Z",
     "start_time": "2020-08-16T01:30:05.346032Z"
    },
    "scrolled": true
   },
   "outputs": [
    {
     "name": "stderr",
     "output_type": "stream",
     "text": [
      "D:\\Anaconda\\lib\\site-packages\\scipy\\optimize\\linesearch.py:314: LineSearchWarning: The line search algorithm did not converge\n",
      "  warn('The line search algorithm did not converge', LineSearchWarning)\n",
      "D:\\Anaconda\\lib\\site-packages\\sklearn\\utils\\optimize.py:204: UserWarning: Line Search failed\n",
      "  warnings.warn('Line Search failed')\n",
      "D:\\Anaconda\\lib\\site-packages\\scipy\\optimize\\linesearch.py:314: LineSearchWarning: The line search algorithm did not converge\n",
      "  warn('The line search algorithm did not converge', LineSearchWarning)\n",
      "D:\\Anaconda\\lib\\site-packages\\sklearn\\utils\\optimize.py:204: UserWarning: Line Search failed\n",
      "  warnings.warn('Line Search failed')\n",
      "D:\\Anaconda\\lib\\site-packages\\scipy\\optimize\\linesearch.py:314: LineSearchWarning: The line search algorithm did not converge\n",
      "  warn('The line search algorithm did not converge', LineSearchWarning)\n",
      "D:\\Anaconda\\lib\\site-packages\\sklearn\\utils\\optimize.py:204: UserWarning: Line Search failed\n",
      "  warnings.warn('Line Search failed')\n",
      "D:\\Anaconda\\lib\\site-packages\\scipy\\optimize\\linesearch.py:314: LineSearchWarning: The line search algorithm did not converge\n",
      "  warn('The line search algorithm did not converge', LineSearchWarning)\n",
      "D:\\Anaconda\\lib\\site-packages\\sklearn\\utils\\optimize.py:204: UserWarning: Line Search failed\n",
      "  warnings.warn('Line Search failed')\n",
      "D:\\Anaconda\\lib\\site-packages\\scipy\\optimize\\linesearch.py:314: LineSearchWarning: The line search algorithm did not converge\n",
      "  warn('The line search algorithm did not converge', LineSearchWarning)\n",
      "D:\\Anaconda\\lib\\site-packages\\sklearn\\utils\\optimize.py:204: UserWarning: Line Search failed\n",
      "  warnings.warn('Line Search failed')\n",
      "D:\\Anaconda\\lib\\site-packages\\scipy\\optimize\\linesearch.py:314: LineSearchWarning: The line search algorithm did not converge\n",
      "  warn('The line search algorithm did not converge', LineSearchWarning)\n",
      "D:\\Anaconda\\lib\\site-packages\\sklearn\\utils\\optimize.py:204: UserWarning: Line Search failed\n",
      "  warnings.warn('Line Search failed')\n",
      "D:\\Anaconda\\lib\\site-packages\\scipy\\optimize\\linesearch.py:314: LineSearchWarning: The line search algorithm did not converge\n",
      "  warn('The line search algorithm did not converge', LineSearchWarning)\n",
      "D:\\Anaconda\\lib\\site-packages\\sklearn\\utils\\optimize.py:204: UserWarning: Line Search failed\n",
      "  warnings.warn('Line Search failed')\n",
      "D:\\Anaconda\\lib\\site-packages\\scipy\\optimize\\linesearch.py:314: LineSearchWarning: The line search algorithm did not converge\n",
      "  warn('The line search algorithm did not converge', LineSearchWarning)\n",
      "D:\\Anaconda\\lib\\site-packages\\sklearn\\utils\\optimize.py:204: UserWarning: Line Search failed\n",
      "  warnings.warn('Line Search failed')\n",
      "D:\\Anaconda\\lib\\site-packages\\scipy\\optimize\\linesearch.py:314: LineSearchWarning: The line search algorithm did not converge\n",
      "  warn('The line search algorithm did not converge', LineSearchWarning)\n",
      "D:\\Anaconda\\lib\\site-packages\\sklearn\\utils\\optimize.py:204: UserWarning: Line Search failed\n",
      "  warnings.warn('Line Search failed')\n",
      "D:\\Anaconda\\lib\\site-packages\\scipy\\optimize\\linesearch.py:314: LineSearchWarning: The line search algorithm did not converge\n",
      "  warn('The line search algorithm did not converge', LineSearchWarning)\n",
      "D:\\Anaconda\\lib\\site-packages\\sklearn\\utils\\optimize.py:204: UserWarning: Line Search failed\n",
      "  warnings.warn('Line Search failed')\n",
      "D:\\Anaconda\\lib\\site-packages\\scipy\\optimize\\linesearch.py:314: LineSearchWarning: The line search algorithm did not converge\n",
      "  warn('The line search algorithm did not converge', LineSearchWarning)\n",
      "D:\\Anaconda\\lib\\site-packages\\sklearn\\utils\\optimize.py:204: UserWarning: Line Search failed\n",
      "  warnings.warn('Line Search failed')\n",
      "D:\\Anaconda\\lib\\site-packages\\scipy\\optimize\\linesearch.py:314: LineSearchWarning: The line search algorithm did not converge\n",
      "  warn('The line search algorithm did not converge', LineSearchWarning)\n",
      "D:\\Anaconda\\lib\\site-packages\\sklearn\\utils\\optimize.py:204: UserWarning: Line Search failed\n",
      "  warnings.warn('Line Search failed')\n",
      "D:\\Anaconda\\lib\\site-packages\\scipy\\optimize\\linesearch.py:314: LineSearchWarning: The line search algorithm did not converge\n",
      "  warn('The line search algorithm did not converge', LineSearchWarning)\n",
      "D:\\Anaconda\\lib\\site-packages\\sklearn\\utils\\optimize.py:204: UserWarning: Line Search failed\n",
      "  warnings.warn('Line Search failed')\n",
      "D:\\Anaconda\\lib\\site-packages\\scipy\\optimize\\linesearch.py:314: LineSearchWarning: The line search algorithm did not converge\n",
      "  warn('The line search algorithm did not converge', LineSearchWarning)\n",
      "D:\\Anaconda\\lib\\site-packages\\sklearn\\utils\\optimize.py:204: UserWarning: Line Search failed\n",
      "  warnings.warn('Line Search failed')\n",
      "D:\\Anaconda\\lib\\site-packages\\scipy\\optimize\\linesearch.py:314: LineSearchWarning: The line search algorithm did not converge\n",
      "  warn('The line search algorithm did not converge', LineSearchWarning)\n",
      "D:\\Anaconda\\lib\\site-packages\\sklearn\\utils\\optimize.py:204: UserWarning: Line Search failed\n",
      "  warnings.warn('Line Search failed')\n",
      "D:\\Anaconda\\lib\\site-packages\\scipy\\optimize\\linesearch.py:314: LineSearchWarning: The line search algorithm did not converge\n",
      "  warn('The line search algorithm did not converge', LineSearchWarning)\n",
      "D:\\Anaconda\\lib\\site-packages\\sklearn\\utils\\optimize.py:204: UserWarning: Line Search failed\n",
      "  warnings.warn('Line Search failed')\n"
     ]
    }
   ],
   "source": [
    "lr_mean_embedding = ffit_logistic_regression(X_train_mean_paragraph_vector, y_train)"
   ]
  },
  {
   "cell_type": "code",
   "execution_count": 258,
   "metadata": {
    "ExecuteTime": {
     "end_time": "2020-08-16T01:32:39.370191Z",
     "start_time": "2020-08-16T01:32:39.363211Z"
    },
    "scrolled": true
   },
   "outputs": [
    {
     "name": "stdout",
     "output_type": "stream",
     "text": [
      "{'C': 0.06, 'max_iter': 500, 'penalty': 'l2', 'solver': 'lbfgs'}\n",
      "0.5418994413407822\n"
     ]
    }
   ],
   "source": [
    "print(lr_mean_embedding.best_params_)\n"
   ]
  },
  {
   "cell_type": "code",
   "execution_count": 279,
   "metadata": {
    "ExecuteTime": {
     "end_time": "2020-08-16T06:16:59.957987Z",
     "start_time": "2020-08-16T06:16:59.653830Z"
    }
   },
   "outputs": [
    {
     "name": "stdout",
     "output_type": "stream",
     "text": [
      "0.5079365079365079\n"
     ]
    }
   ],
   "source": [
    "#print(lr_mean_embedding.best_estimator_.score(X_train_mean_paragraph_vector, y_train))\n",
    "print(lr_mean_embedding.score(X_test_mean_paragraph_vector, y_test))"
   ]
  },
  {
   "cell_type": "code",
   "execution_count": 260,
   "metadata": {
    "ExecuteTime": {
     "end_time": "2020-08-16T01:33:55.074592Z",
     "start_time": "2020-08-16T01:33:22.563814Z"
    }
   },
   "outputs": [
    {
     "name": "stdout",
     "output_type": "stream",
     "text": [
      "\n",
      " Logistic Regression Over\n",
      "\n"
     ]
    },
    {
     "name": "stderr",
     "output_type": "stream",
     "text": [
      "D:\\Anaconda\\lib\\site-packages\\sklearn\\linear_model\\_sag.py:330: ConvergenceWarning: The max_iter was reached which means the coef_ did not converge\n",
      "  \"the coef_ did not converge\", ConvergenceWarning)\n"
     ]
    }
   ],
   "source": [
    "lr_sum_embedding = fit_logistic_regression(X_train_sum_paragraph_vector, y_train)"
   ]
  },
  {
   "cell_type": "code",
   "execution_count": 261,
   "metadata": {
    "ExecuteTime": {
     "end_time": "2020-08-16T01:37:26.201840Z",
     "start_time": "2020-08-16T01:37:26.196855Z"
    }
   },
   "outputs": [
    {
     "data": {
      "text/plain": [
       "{'C': 0.05, 'max_iter': 500, 'penalty': 'l2', 'solver': 'saga'}"
      ]
     },
     "execution_count": 261,
     "metadata": {},
     "output_type": "execute_result"
    }
   ],
   "source": [
    "lr_sum_embedding.best_params_"
   ]
  },
  {
   "cell_type": "code",
   "execution_count": 263,
   "metadata": {
    "ExecuteTime": {
     "end_time": "2020-08-16T01:38:17.759239Z",
     "start_time": "2020-08-16T01:38:17.752285Z"
    }
   },
   "outputs": [
    {
     "data": {
      "text/plain": [
       "0.5158730158730159"
      ]
     },
     "execution_count": 263,
     "metadata": {},
     "output_type": "execute_result"
    }
   ],
   "source": [
    "lr_sum_embedding.score(X_test_sum_paragraph_vector, y_test)"
   ]
  },
  {
   "cell_type": "code",
   "execution_count": 48,
   "metadata": {
    "ExecuteTime": {
     "end_time": "2020-08-14T01:42:05.225351Z",
     "start_time": "2020-08-14T01:42:05.221358Z"
    }
   },
   "outputs": [
    {
     "name": "stdout",
     "output_type": "stream",
     "text": [
      "{'C': 0.06, 'max_iter': 500, 'penalty': 'l2', 'solver': 'lbfgs'}\n",
      "{'C': 1, 'max_iter': 500, 'penalty': 'l2', 'solver': 'lbfgs'}\n"
     ]
    }
   ],
   "source": [
    "print(lr_mean_embedding.best_params_)\n",
    "print(lr_sum_embedding.best_params_)"
   ]
  },
  {
   "cell_type": "code",
   "execution_count": 49,
   "metadata": {
    "ExecuteTime": {
     "end_time": "2020-08-14T01:42:05.544494Z",
     "start_time": "2020-08-14T01:42:05.532528Z"
    }
   },
   "outputs": [
    {
     "name": "stdout",
     "output_type": "stream",
     "text": [
      "Logistic Regression Results \n",
      "\n",
      "0.5418994413407822\n",
      "0.5079365079365079\n",
      "0.5822470515207946\n",
      "0.5026455026455027\n"
     ]
    }
   ],
   "source": [
    "print('Logistic Regression Results \\n')\n",
    "print(lr_mean_embedding.best_estimator_.score(X_train_mean_paragraph_vector, y_train))\n",
    "print(lr_mean_embedding.best_estimator_.score(X_test_mean_paragraph_vector, y_test))\n",
    "\n",
    "print(lr_sum_embedding.best_estimator_.score(X_train_sum_paragraph_vector, y_train))\n",
    "print(lr_sum_embedding.best_estimator_.score(X_test_sum_paragraph_vector, y_test))"
   ]
  },
  {
   "cell_type": "markdown",
   "metadata": {},
   "source": [
    "#### Naive Bayes"
   ]
  },
  {
   "cell_type": "code",
   "execution_count": 50,
   "metadata": {
    "ExecuteTime": {
     "end_time": "2020-08-14T01:42:05.916499Z",
     "start_time": "2020-08-14T01:42:05.886579Z"
    }
   },
   "outputs": [],
   "source": [
    "from sklearn import naive_bayes\n",
    "NB = naive_bayes.GaussianNB()"
   ]
  },
  {
   "cell_type": "code",
   "execution_count": 51,
   "metadata": {
    "ExecuteTime": {
     "end_time": "2020-08-14T01:42:06.252636Z",
     "start_time": "2020-08-14T01:42:06.245619Z"
    },
    "scrolled": true
   },
   "outputs": [],
   "source": [
    "NB_mean = NB.fit(X_train_mean_paragraph_vector, y_train)\n",
    "NB_sum = NB.fit(X_train_sum_paragraph_vector, y_train)"
   ]
  },
  {
   "cell_type": "code",
   "execution_count": 52,
   "metadata": {
    "ExecuteTime": {
     "end_time": "2020-08-14T01:42:06.562772Z",
     "start_time": "2020-08-14T01:42:06.549806Z"
    }
   },
   "outputs": [
    {
     "name": "stdout",
     "output_type": "stream",
     "text": [
      "Naive Bayes Results \n",
      "\n",
      "0.4581005586592179\n",
      "0.49206349206349204\n",
      "0.5667287399130975\n",
      "0.4947089947089947\n"
     ]
    }
   ],
   "source": [
    "print('Naive Bayes Results \\n')\n",
    "print(NB_mean.score(X_train_mean_paragraph_vector, y_train))\n",
    "print(NB_mean.score(X_test_mean_paragraph_vector, y_test))\n",
    "\n",
    "print(NB_mean.score(X_train_sum_paragraph_vector, y_train))\n",
    "print(NB_mean.score(X_test_sum_paragraph_vector, y_test))"
   ]
  },
  {
   "cell_type": "markdown",
   "metadata": {},
   "source": [
    "#### Random Forest"
   ]
  },
  {
   "cell_type": "code",
   "execution_count": 53,
   "metadata": {
    "ExecuteTime": {
     "end_time": "2020-08-14T01:42:07.991463Z",
     "start_time": "2020-08-14T01:42:06.876930Z"
    }
   },
   "outputs": [],
   "source": [
    "from sklearn.ensemble import RandomForestClassifier\n",
    "clf_RF = RandomForestClassifier(n_estimators=100, criterion='entropy')"
   ]
  },
  {
   "cell_type": "code",
   "execution_count": 54,
   "metadata": {
    "ExecuteTime": {
     "end_time": "2020-08-14T01:42:11.860460Z",
     "start_time": "2020-08-14T01:42:08.319537Z"
    }
   },
   "outputs": [],
   "source": [
    "RF_mean = clf_RF.fit(X_train_mean_paragraph_vector, y_train)\n",
    "RF_sum = clf_RF.fit(X_train_sum_paragraph_vector, y_train)\n",
    "# Predicting the sentiment values for test data and saving the results in a csv file \n",
    "#result = forest.predict(X_test_mean_paragraph_vector)"
   ]
  },
  {
   "cell_type": "code",
   "execution_count": 55,
   "metadata": {
    "ExecuteTime": {
     "end_time": "2020-08-14T01:42:12.274227Z",
     "start_time": "2020-08-14T01:42:12.162525Z"
    }
   },
   "outputs": [
    {
     "name": "stdout",
     "output_type": "stream",
     "text": [
      "Random Forest Mean Embedding Resutls\n",
      "\n",
      "0.5418994413407822\n",
      "0.5079365079365079\n",
      "\n",
      "Random Forest Sum Embedding Resutls\n",
      "\n",
      "1.0\n",
      "0.5\n"
     ]
    }
   ],
   "source": [
    "print('Random Forest Mean Embedding Resutls\\n')\n",
    "print(RF_mean.score(X_train_mean_paragraph_vector, y_train))\n",
    "print(RF_mean.score(X_test_mean_paragraph_vector, y_test))\n",
    "\n",
    "print('\\nRandom Forest Sum Embedding Resutls\\n')\n",
    "print(RF_sum.score(X_train_sum_paragraph_vector, y_train))\n",
    "print(RF_sum.score(X_test_sum_paragraph_vector, y_test))"
   ]
  },
  {
   "cell_type": "markdown",
   "metadata": {},
   "source": [
    "### Deep Learning Models"
   ]
  },
  {
   "cell_type": "markdown",
   "metadata": {},
   "source": [
    "Making some checks before setting embedding layer parameters"
   ]
  },
  {
   "cell_type": "markdown",
   "metadata": {},
   "source": [
    "#### Using Word2Vec Models created"
   ]
  },
  {
   "cell_type": "code",
   "execution_count": 116,
   "metadata": {
    "ExecuteTime": {
     "end_time": "2020-08-14T03:39:47.759305Z",
     "start_time": "2020-08-14T03:39:46.614225Z"
    }
   },
   "outputs": [],
   "source": [
    "tokenizer = Tokenizer()\n",
    "tokenizer.fit_on_texts(X_train)\n",
    "\n",
    "max_length = max([len(headline) for headline in X_train])\n",
    "vocab_size = len(tokenizer.word_index) + 1\n",
    "\n",
    "X_train_tokens = tokenizer.texts_to_sequences(X_train)\n",
    "X_test_tokens = tokenizer.texts_to_sequences(X_test)\n",
    "\n",
    "X_train_pad = pad_sequences(X_train_tokens, maxlen=max_length, padding='post')\n",
    "X_test_pad = pad_sequences(X_test_tokens, maxlen=max_length, padding='post')"
   ]
  },
  {
   "cell_type": "code",
   "execution_count": 117,
   "metadata": {
    "ExecuteTime": {
     "end_time": "2020-08-14T03:40:21.676358Z",
     "start_time": "2020-08-14T03:40:21.665384Z"
    }
   },
   "outputs": [],
   "source": [
    "def load_embedding_model(model_name):\n",
    "    file = open(model_name,'r')\n",
    "    lines = file.readlines()[1:] #Remove the first line as it contains vocabulary size and dimension\n",
    "    file.close()\n",
    "    \n",
    "    embedding_mapper = dict() #To map words with their vectors\n",
    "    for line in lines:\n",
    "        word_vector = line.split()\n",
    "        embedding_mapper[word_vector[0]] = np.array(word_vector[1:], dtype='float32')\n",
    "    \n",
    "    return embedding_mapper\n",
    "\n",
    "def get_tokenizer_embedding_mapper(embedding, tokenizer_word_index):\n",
    "    not_present = []\n",
    "    vocab_size = len(tokenizer_word_index) + 1\n",
    "    tokenizer_embedding_mapper = np.zeros((vocab_size, model.wv.vector_size))\n",
    "    for word, index in tokenizer_word_index.items():\n",
    "        try:\n",
    "            tokenizer_embedding_mapper[index] = embedding[word]\n",
    "        except:\n",
    "            not_present.append(word)\n",
    "            \n",
    "    return tokenizer_embedding_mapper, not_present"
   ]
  },
  {
   "cell_type": "code",
   "execution_count": 118,
   "metadata": {
    "ExecuteTime": {
     "end_time": "2020-08-14T03:40:57.958268Z",
     "start_time": "2020-08-14T03:40:56.626897Z"
    }
   },
   "outputs": [],
   "source": [
    "learned_embedding = load_embedding_model('embedding64_word2vec.txt')\n",
    "\n",
    "tokenizer_mapper, oov = get_tokenizer_embedding_mapper(learned_embedding, tokenizer.word_index)"
   ]
  },
  {
   "cell_type": "code",
   "execution_count": 120,
   "metadata": {
    "ExecuteTime": {
     "end_time": "2020-08-14T03:42:06.711950Z",
     "start_time": "2020-08-14T03:42:06.705963Z"
    }
   },
   "outputs": [
    {
     "data": {
      "text/plain": [
       "True"
      ]
     },
     "execution_count": 120,
     "metadata": {},
     "output_type": "execute_result"
    }
   ],
   "source": [
    "# This shows that we have succesfully mapped all words learnt by our Word2Vec model.\n",
    "len(oov) + len(learned_embedding) == len(tokenizer.word_index)"
   ]
  },
  {
   "cell_type": "code",
   "execution_count": 121,
   "metadata": {
    "ExecuteTime": {
     "end_time": "2020-08-14T03:42:41.524178Z",
     "start_time": "2020-08-14T03:42:41.518195Z"
    }
   },
   "outputs": [
    {
     "data": {
      "text/plain": [
       "40453"
      ]
     },
     "execution_count": 121,
     "metadata": {},
     "output_type": "execute_result"
    }
   ],
   "source": [
    "vocab_size"
   ]
  },
  {
   "cell_type": "code",
   "execution_count": 133,
   "metadata": {
    "ExecuteTime": {
     "end_time": "2020-08-14T04:11:10.193121Z",
     "start_time": "2020-08-14T04:11:10.187106Z"
    }
   },
   "outputs": [],
   "source": [
    "embedding_layer = Embedding(vocab_size, model.wv.vector_size, weights=[tokenizer_mapper], input_length=max_length, trainable=False)"
   ]
  },
  {
   "cell_type": "markdown",
   "metadata": {},
   "source": [
    "#### Dense Neural Network"
   ]
  },
  {
   "cell_type": "code",
   "execution_count": 134,
   "metadata": {
    "ExecuteTime": {
     "end_time": "2020-08-14T04:12:22.951120Z",
     "start_time": "2020-08-14T04:12:22.331960Z"
    },
    "scrolled": true
   },
   "outputs": [
    {
     "name": "stdout",
     "output_type": "stream",
     "text": [
      "Model: \"sequential_5\"\n",
      "_________________________________________________________________\n",
      "Layer (type)                 Output Shape              Param #   \n",
      "=================================================================\n",
      "embedding_4 (Embedding)      (None, 671, 64)           2588992   \n",
      "_________________________________________________________________\n",
      "flatten_2 (Flatten)          (None, 42944)             0         \n",
      "_________________________________________________________________\n",
      "dense_4 (Dense)              (None, 64)                2748480   \n",
      "_________________________________________________________________\n",
      "dropout_2 (Dropout)          (None, 64)                0         \n",
      "_________________________________________________________________\n",
      "dense_5 (Dense)              (None, 1)                 65        \n",
      "=================================================================\n",
      "Total params: 5,337,537\n",
      "Trainable params: 2,748,545\n",
      "Non-trainable params: 2,588,992\n",
      "_________________________________________________________________\n"
     ]
    }
   ],
   "source": [
    "MLP = Sequential()\n",
    "MLP.add(embedding_layer)\n",
    "MLP.add(Flatten())\n",
    "MLP.add(Dense(64, activation='relu'))\n",
    "MLP.add(Dropout(0.5))\n",
    "# model.add(Dense(n_dense, activation='relu'))\n",
    "# model.add(Dropout(dropout))\n",
    "MLP.add(Dense(1, activation='sigmoid'))\n",
    "MLP.summary()\n"
   ]
  },
  {
   "cell_type": "code",
   "execution_count": 139,
   "metadata": {
    "ExecuteTime": {
     "end_time": "2020-08-14T04:18:44.086222Z",
     "start_time": "2020-08-14T04:18:43.593670Z"
    }
   },
   "outputs": [
    {
     "name": "stdout",
     "output_type": "stream",
     "text": [
      "Model: \"sequential_6\"\n",
      "_________________________________________________________________\n",
      "Layer (type)                 Output Shape              Param #   \n",
      "=================================================================\n",
      "embedding_4 (Embedding)      (None, 671, 64)           2588992   \n",
      "_________________________________________________________________\n",
      "flatten_3 (Flatten)          (None, 42944)             0         \n",
      "_________________________________________________________________\n",
      "dense_6 (Dense)              (None, 128)               5496960   \n",
      "_________________________________________________________________\n",
      "dropout_3 (Dropout)          (None, 128)               0         \n",
      "_________________________________________________________________\n",
      "dense_7 (Dense)              (None, 1)                 129       \n",
      "=================================================================\n",
      "Total params: 8,086,081\n",
      "Trainable params: 5,497,089\n",
      "Non-trainable params: 2,588,992\n",
      "_________________________________________________________________\n"
     ]
    }
   ],
   "source": [
    "MLP1 = Sequential()\n",
    "MLP1.add(embedding_layer)\n",
    "MLP1.add(Flatten())\n",
    "MLP1.add(Dense(128, activation='relu'))\n",
    "MLP1.add(Dropout(0.2))\n",
    "# model.add(Dense(n_dense, activation='relu'))\n",
    "# model.add(Dropout(dropout))\n",
    "MLP1.add(Dense(1, activation='sigmoid'))\n",
    "MLP1.summary()\n"
   ]
  },
  {
   "cell_type": "code",
   "execution_count": 140,
   "metadata": {
    "ExecuteTime": {
     "end_time": "2020-08-14T04:19:56.878305Z",
     "start_time": "2020-08-14T04:19:56.256369Z"
    }
   },
   "outputs": [],
   "source": [
    "MLP.compile(loss='binary_crossentropy', optimizer='adam', metrics=['accuracy'])\n",
    "MLP1.compile(loss='binary_crossentropy', optimizer='nadam', metrics=['accuracy'])"
   ]
  },
  {
   "cell_type": "code",
   "execution_count": 141,
   "metadata": {
    "ExecuteTime": {
     "end_time": "2020-08-14T04:20:41.325338Z",
     "start_time": "2020-08-14T04:20:38.892194Z"
    },
    "scrolled": true
   },
   "outputs": [
    {
     "name": "stdout",
     "output_type": "stream",
     "text": [
      "Train on 1611 samples, validate on 378 samples\n",
      "Epoch 1/5\n",
      "1611/1611 [==============================] - 1s 653us/sample - loss: 0.2142 - accuracy: 0.8926 - val_loss: 0.9301 - val_accuracy: 0.5265\n",
      "Epoch 2/5\n",
      "1611/1611 [==============================] - 0s 208us/sample - loss: 0.1930 - accuracy: 0.9007 - val_loss: 0.9325 - val_accuracy: 0.5159\n",
      "Epoch 3/5\n",
      "1611/1611 [==============================] - 0s 209us/sample - loss: 0.1756 - accuracy: 0.9044 - val_loss: 0.9256 - val_accuracy: 0.4921\n",
      "Epoch 4/5\n",
      "1611/1611 [==============================] - 0s 202us/sample - loss: 0.1662 - accuracy: 0.9056 - val_loss: 1.0863 - val_accuracy: 0.4947\n",
      "Epoch 5/5\n",
      "1611/1611 [==============================] - 0s 204us/sample - loss: 0.1651 - accuracy: 0.8982 - val_loss: 1.0816 - val_accuracy: 0.4974\n"
     ]
    },
    {
     "data": {
      "text/plain": [
       "<tensorflow.python.keras.callbacks.History at 0x1b6110e1688>"
      ]
     },
     "execution_count": 141,
     "metadata": {},
     "output_type": "execute_result"
    }
   ],
   "source": [
    "MLP.fit(np.array(X_train_pad), np.array(y_train), \n",
    "          batch_size=64, epochs=5, verbose=1, \n",
    "          validation_data=(np.array(X_test_pad), np.array(y_test))\n",
    "          )"
   ]
  },
  {
   "cell_type": "code",
   "execution_count": 146,
   "metadata": {
    "ExecuteTime": {
     "end_time": "2020-08-14T04:28:58.323530Z",
     "start_time": "2020-08-14T04:28:54.110904Z"
    }
   },
   "outputs": [
    {
     "name": "stdout",
     "output_type": "stream",
     "text": [
      "Train on 1611 samples, validate on 378 samples\n",
      "Epoch 1/4\n",
      "1611/1611 [==============================] - 1s 772us/sample - loss: 0.0533 - accuracy: 0.9851 - val_loss: 1.1893 - val_accuracy: 0.5053\n",
      "Epoch 2/4\n",
      "1611/1611 [==============================] - 1s 611us/sample - loss: 0.0443 - accuracy: 0.9857 - val_loss: 1.0620 - val_accuracy: 0.4841\n",
      "Epoch 3/4\n",
      "1611/1611 [==============================] - 1s 597us/sample - loss: 0.0374 - accuracy: 0.9839 - val_loss: 1.3132 - val_accuracy: 0.5212\n",
      "Epoch 4/4\n",
      "1611/1611 [==============================] - 1s 593us/sample - loss: 0.0347 - accuracy: 0.9826 - val_loss: 1.0813 - val_accuracy: 0.5185\n"
     ]
    },
    {
     "data": {
      "text/plain": [
       "<tensorflow.python.keras.callbacks.History at 0x1b573049348>"
      ]
     },
     "execution_count": 146,
     "metadata": {},
     "output_type": "execute_result"
    }
   ],
   "source": [
    "MLP1.fit(np.array(X_train_pad), np.array(y_train), \n",
    "          batch_size=32, epochs=4, verbose=1, \n",
    "          validation_data=(np.array(X_test_pad), np.array(y_test))\n",
    "          )"
   ]
  },
  {
   "cell_type": "markdown",
   "metadata": {},
   "source": [
    "#### Convolutional Neural Network"
   ]
  },
  {
   "cell_type": "code",
   "execution_count": 193,
   "metadata": {
    "ExecuteTime": {
     "end_time": "2020-08-14T05:30:31.748031Z",
     "start_time": "2020-08-14T05:30:23.835151Z"
    },
    "scrolled": true
   },
   "outputs": [
    {
     "name": "stdout",
     "output_type": "stream",
     "text": [
      "Model: \"sequential_45\"\n",
      "_________________________________________________________________\n",
      "Layer (type)                 Output Shape              Param #   \n",
      "=================================================================\n",
      "embedding_4 (Embedding)      (None, 671, 64)           2588992   \n",
      "_________________________________________________________________\n",
      "conv1d_35 (Conv1D)           (None, 667, 64)           20544     \n",
      "_________________________________________________________________\n",
      "global_max_pooling1d_33 (Glo (None, 64)                0         \n",
      "_________________________________________________________________\n",
      "dropout_70 (Dropout)         (None, 64)                0         \n",
      "_________________________________________________________________\n",
      "flatten_37 (Flatten)         (None, 64)                0         \n",
      "_________________________________________________________________\n",
      "dense_74 (Dense)             (None, 32)                2080      \n",
      "_________________________________________________________________\n",
      "dropout_71 (Dropout)         (None, 32)                0         \n",
      "_________________________________________________________________\n",
      "dense_75 (Dense)             (None, 1)                 33        \n",
      "=================================================================\n",
      "Total params: 2,611,649\n",
      "Trainable params: 22,657\n",
      "Non-trainable params: 2,588,992\n",
      "_________________________________________________________________\n",
      "None\n",
      "Train on 1611 samples\n",
      "Epoch 1/15\n",
      "1611/1611 - 1s - loss: 0.7276 - accuracy: 0.5345\n",
      "Epoch 2/15\n",
      "1611/1611 - 0s - loss: 0.7021 - accuracy: 0.5320\n",
      "Epoch 3/15\n",
      "1611/1611 - 0s - loss: 0.6969 - accuracy: 0.5133\n",
      "Epoch 4/15\n",
      "1611/1611 - 0s - loss: 0.6905 - accuracy: 0.5382\n",
      "Epoch 5/15\n",
      "1611/1611 - 0s - loss: 0.6850 - accuracy: 0.5382\n",
      "Epoch 6/15\n",
      "1611/1611 - 0s - loss: 0.6903 - accuracy: 0.5326\n",
      "Epoch 7/15\n",
      "1611/1611 - 0s - loss: 0.6877 - accuracy: 0.5438\n",
      "Epoch 8/15\n",
      "1611/1611 - 0s - loss: 0.6864 - accuracy: 0.5611\n",
      "Epoch 9/15\n",
      "1611/1611 - 0s - loss: 0.6828 - accuracy: 0.5450\n",
      "Epoch 10/15\n",
      "1611/1611 - 0s - loss: 0.6776 - accuracy: 0.5618\n",
      "Epoch 11/15\n",
      "1611/1611 - 0s - loss: 0.6641 - accuracy: 0.6034\n",
      "Epoch 12/15\n",
      "1611/1611 - 0s - loss: 0.6691 - accuracy: 0.5816\n",
      "Epoch 13/15\n",
      "1611/1611 - 0s - loss: 0.6545 - accuracy: 0.6071\n",
      "Epoch 14/15\n",
      "1611/1611 - 0s - loss: 0.6390 - accuracy: 0.6425\n",
      "Epoch 15/15\n",
      "1611/1611 - 0s - loss: 0.6285 - accuracy: 0.6468\n",
      "Test Accuracy: 52.116400\n"
     ]
    }
   ],
   "source": [
    "CNN = Sequential()\n",
    "\n",
    "CNN.add(embedding_layer)\n",
    "\n",
    "CNN.add(Conv1D(filters=64, kernel_size=5, activation='relu'))\n",
    "CNN.add(GlobalMaxPooling1D())\n",
    "CNN.add(Dropout(0.4))\n",
    "CNN.add(Flatten())\n",
    "\n",
    "CNN.add(Dense(32, activation='relu'))\n",
    "CNN.add(Dropout(0.4))\n",
    "\n",
    "CNN.add(Dense(1, activation='sigmoid'))\n",
    "\n",
    "print(CNN.summary())\n",
    "\n",
    "# compile network\n",
    "CNN.compile(loss='binary_crossentropy', optimizer='adam', metrics=['accuracy'])\n",
    "# fit network\n",
    "CNN.fit(X_train_pad, y_train, epochs=15, verbose=2)\n",
    "# evaluate\n",
    "loss, acc = CNN.evaluate(X_test_pad, y_test, verbose=0)\n",
    "print('Test Accuracy: %f' % (acc*100))"
   ]
  }
 ],
 "metadata": {
  "kernelspec": {
   "display_name": "Python 3",
   "language": "python",
   "name": "python3"
  },
  "language_info": {
   "codemirror_mode": {
    "name": "ipython",
    "version": 3
   },
   "file_extension": ".py",
   "mimetype": "text/x-python",
   "name": "python",
   "nbconvert_exporter": "python",
   "pygments_lexer": "ipython3",
   "version": "3.7.7"
  },
  "toc": {
   "base_numbering": 1,
   "nav_menu": {},
   "number_sections": true,
   "sideBar": true,
   "skip_h1_title": false,
   "title_cell": "Table of Contents",
   "title_sidebar": "Contents",
   "toc_cell": true,
   "toc_position": {
    "height": "calc(100% - 180px)",
    "left": "10px",
    "top": "150px",
    "width": "231.843px"
   },
   "toc_section_display": true,
   "toc_window_display": true
  },
  "varInspector": {
   "cols": {
    "lenName": 16,
    "lenType": 16,
    "lenVar": 40
   },
   "kernels_config": {
    "python": {
     "delete_cmd_postfix": "",
     "delete_cmd_prefix": "del ",
     "library": "var_list.py",
     "varRefreshCmd": "print(var_dic_list())"
    },
    "r": {
     "delete_cmd_postfix": ") ",
     "delete_cmd_prefix": "rm(",
     "library": "var_list.r",
     "varRefreshCmd": "cat(var_dic_list()) "
    }
   },
   "types_to_exclude": [
    "module",
    "function",
    "builtin_function_or_method",
    "instance",
    "_Feature"
   ],
   "window_display": false
  }
 },
 "nbformat": 4,
 "nbformat_minor": 4
}
